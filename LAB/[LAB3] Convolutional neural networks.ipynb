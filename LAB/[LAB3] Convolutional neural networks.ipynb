{
  "cells": [
    {
      "cell_type": "markdown",
      "metadata": {
        "id": "MI8tUTgdxPhO"
      },
      "source": [
        "## Neural Networks (2022-2023)\n",
        "### Lab session 2: Convolutional neural networks"
      ]
    },
    {
      "cell_type": "code",
      "execution_count": 1,
      "metadata": {
        "colab": {
          "base_uri": "https://localhost:8080/"
        },
        "id": "QCxryTICANDN",
        "outputId": "b23274cb-a7b3-4bb6-d8b2-4d3645bdd95c"
      },
      "outputs": [
        {
          "name": "stdout",
          "output_type": "stream",
          "text": [
            "Note: you may need to restart the kernel to use updated packages.\n"
          ]
        }
      ],
      "source": [
        "# We will use torchmetrics for computing the accuracy: https://torchmetrics.readthedocs.io/\n",
        "%pip install torchmetrics --quiet"
      ]
    },
    {
      "cell_type": "code",
      "execution_count": 1,
      "metadata": {
        "id": "Lr6b1klwApCV"
      },
      "outputs": [],
      "source": [
        "import torch\n",
        "from torch import nn\n",
        "from torch.nn import functional as F\n",
        "from torch.backends import cudnn"
      ]
    },
    {
      "cell_type": "code",
      "execution_count": 2,
      "metadata": {
        "id": "T1prmf1ewD2m"
      },
      "outputs": [],
      "source": [
        "import torchmetrics\n",
        "import torchvision\n",
        "from torchvision import transforms as T\n",
        "import torchvision.transforms.functional as TF\n",
        "from torchvision.models import resnet34, resnet18, ResNet34_Weights, ResNet18_Weights"
      ]
    },
    {
      "cell_type": "code",
      "execution_count": 3,
      "metadata": {
        "id": "mufknE5BBRkJ"
      },
      "outputs": [
        {
          "name": "stderr",
          "output_type": "stream",
          "text": [
            "c:\\Users\\Gianmarco\\anaconda3\\lib\\site-packages\\paramiko\\transport.py:219: CryptographyDeprecationWarning: Blowfish has been deprecated\n",
            "  \"class\": algorithms.Blowfish,\n"
          ]
        }
      ],
      "source": [
        "import tqdm\n",
        "import numpy as np\n",
        "import matplotlib.pyplot as plt\n",
        "from composer.algorithms import CutMix\n",
        "from composer.trainer import Trainer\n",
        "import composer.functional as cf\n",
        "import h5py"
      ]
    },
    {
      "cell_type": "markdown",
      "metadata": {
        "id": "AaPLiHMzxnAP"
      },
      "source": [
        "## Step 1: Loading the data\n",
        "\n",
        "For this lab session we will use KMNIST, which is a simple drop-in replacement for MNIST: http://codh.rois.ac.jp/kmnist/index.html.en. \n",
        "The input is a (28,28) black-and-white image, which has to be classified into 10 different classes."
      ]
    },
    {
      "cell_type": "code",
      "execution_count": 4,
      "metadata": {
        "colab": {
          "base_uri": "https://localhost:8080/",
          "height": 432,
          "referenced_widgets": [
            "b43d95bc893944cfbf9c51dd180a011f",
            "b5e9f994b39343faad0451b6cd3cfc10",
            "e5bffb3eb6bd4bd4b01f76dce4d84a30",
            "9400f8fec97440bdadd1ea4e7f103866",
            "0b96b45ea77849b49ab21c8b76416990",
            "30bd07eb1f2546d2a46a1094d3bac53e",
            "92845d9a91e84ab79bfc81b4b6d07241",
            "7d87a04fbb8a46478f157cac60c83ba1",
            "07271339e4a54fbca5716ee25ece3fc8",
            "02dfee337dc04228b70840a329f6b706",
            "0ea8476e50a84f6bbf70f6c36f47206a",
            "c5fa198f7c324bb68b50c8978ef27460",
            "6cbcd99f8ab341419fbed58922cd7543",
            "95ea0125d2144475827c9b5ef242d520",
            "02aa777aabdf4c50b5bf80f093887f16",
            "c32ac16487b44920ad35c3109ae4bc18",
            "59fb52e50e1e4eb9886072edce1b179b",
            "461218b5ff92436b84ab7d0e79bfc7fd",
            "242b1f11ec1241fcae5df0784b5eb205",
            "b18988896da94a87ad8a398dfd8c0e31",
            "8a1df1b10f0247448047a06f163b8155",
            "803e7fd988a0456ea0083d7280a1efd5",
            "533fb4e63a024ef7ad2b24204309c8fe",
            "de6d2e84d74b40bca68a100c4a90abe9",
            "a21ced98b1cd467696fb73fc6a2bd429",
            "a09473c27ce446b2a8cd0f5ec50d2427",
            "349c0d26897a44ccac1ae21c492bf150",
            "09e981249fbe4afdb8ffff9fd9770b5f",
            "f1b246d1bf3946b3be4b657f532ac435",
            "30b7f36ca2e34058ab036459d4d9f1b4",
            "47fa1be31c404837b7f27a77707c30cb",
            "7eefa74d35404503a74eac4db2f9c78c",
            "0e905a1c69284000902806a945895629",
            "8f2717678c524a15935e9cbcff31f453",
            "126ac119606d49ada0173e20112b1e2c",
            "f613bf34233b4774bfb0feb669275aa2",
            "037707e3518c4e54b0c1e96301685080",
            "aab1aa14dfd94337b0bd868e4ba6c9ea",
            "edea5dd95c674a2fa3fc6664ead5d50b",
            "4a315acb38dc4e14a125fb11fda91a59",
            "ca28c3a621494062ba1925a3771fb08a",
            "19a6f94d527d4e13923e22bc68b797d7",
            "be551c46af5b49d499fe6d20ab590883",
            "e7f3b20186e640c093eb6834ed8a6419"
          ]
        },
        "id": "Tvli5P_BBaZU",
        "outputId": "7624647c-c0e5-463b-dc83-a7196429b038"
      },
      "outputs": [],
      "source": [
        "train_data = torchvision.datasets.KMNIST('./data', train=True, download=True)"
      ]
    },
    {
      "cell_type": "code",
      "execution_count": 5,
      "metadata": {
        "colab": {
          "base_uri": "https://localhost:8080/"
        },
        "id": "QVV1NtuiCQGn",
        "outputId": "e4b5def4-d6c7-4b0b-f113-38075c06cde2"
      },
      "outputs": [
        {
          "data": {
            "text/plain": [
              "60000"
            ]
          },
          "execution_count": 5,
          "metadata": {},
          "output_type": "execute_result"
        }
      ],
      "source": [
        "# A Dataset is fundamentally an iterator over the elements of the dataset.\n",
        "# You can read more about its functionality here: https://pytorch.org/tutorials/beginner/basics/data_tutorial.html\n",
        "len(train_data)"
      ]
    },
    {
      "cell_type": "code",
      "execution_count": 6,
      "metadata": {
        "id": "rLG5czr3C7Vw"
      },
      "outputs": [
        {
          "data": {
            "image/png": "[encoded data removed]",
            "text/plain": [
              "<Figure size 640x480 with 1 Axes>"
            ]
          },
          "metadata": {},
          "output_type": "display_data"
        }
      ],
      "source": [
        "# Alternative way to get the first element: image, label = next(iter(train_data))\n",
        "for image, label in train_data:\n",
        "  plt.title(label)\n",
        "  plt.axis(\"off\")\n",
        "  plt.imshow(image, cmap=\"gray\")\n",
        "  break"
      ]
    },
    {
      "cell_type": "code",
      "execution_count": 7,
      "metadata": {
        "colab": {
          "base_uri": "https://localhost:8080/"
        },
        "id": "cqvjVRWUDRKx",
        "outputId": "1db1c92c-8dd8-4c79-e0f0-b52b924ebf7e"
      },
      "outputs": [
        {
          "name": "stdout",
          "output_type": "stream",
          "text": [
            "<class 'PIL.Image.Image'>\n",
            "28 x 28\n",
            "8\n"
          ]
        }
      ],
      "source": [
        "print(type(image))\n",
        "print(F\"{image.size[0]} x {image.size[1]}\")\n",
        "print(label)"
      ]
    },
    {
      "cell_type": "markdown",
      "metadata": {
        "id": "ndARJ0mlyNkD"
      },
      "source": [
        "## Step 2: Pre-processing the data\n",
        "\n",
        "The simplest way to pre-process the input data (normalization, data augmentation, ...) is to define one or more transformations when instantiating the dataset: https://pytorch.org/vision/stable/transforms.html. "
      ]
    },
    {
      "cell_type": "code",
      "execution_count": 8,
      "metadata": {
        "colab": {
          "base_uri": "https://localhost:8080/"
        },
        "id": "sBp6_b-5FBL_",
        "outputId": "2326a16a-d95b-49f7-b63e-05464df9e51a"
      },
      "outputs": [
        {
          "data": {
            "text/plain": [
              "torch.Size([1, 28, 28])"
            ]
          },
          "execution_count": 8,
          "metadata": {},
          "output_type": "execute_result"
        }
      ],
      "source": [
        "# Simple transformation that converts the PIL image to a PyTorch array\n",
        "T.ToTensor()(image).shape"
      ]
    },
    {
      "cell_type": "code",
      "execution_count": 4,
      "metadata": {
        "id": "aRCZXyALFrwV"
      },
      "outputs": [],
      "source": [
        "# T.Compose allows to chain together multiple transformations\n",
        "train_transforms = T.Compose([\n",
        "    T.RandomRotation(15),\n",
        "    T.RandomAutocontrast(),\n",
        "    T.ToTensor()\n",
        "])"
      ]
    },
    {
      "cell_type": "code",
      "execution_count": 6,
      "metadata": {
        "id": "8nYzcwgjHSDn"
      },
      "outputs": [],
      "source": [
        "# This loads data with both data conversion & a simple data augmentation step.\n",
        "train_data = torchvision.datasets.KMNIST('./data', train=True, transform=train_transforms)"
      ]
    },
    {
      "cell_type": "code",
      "execution_count": 11,
      "metadata": {
        "colab": {
          "base_uri": "https://localhost:8080/",
          "height": 283
        },
        "id": "MnsV2TW_HYpe",
        "outputId": "48b5e8fb-7711-45d4-d1f9-88c45329ac81"
      },
      "outputs": [
        {
          "data": {
            "text/plain": [
              "<matplotlib.image.AxesImage at 0x1f7ec8ab7f0>"
            ]
          },
          "execution_count": 11,
          "metadata": {},
          "output_type": "execute_result"
        },
        {
          "data": {
            "image/png": "[encoded data removed]",
            "text/plain": [
              "<Figure size 640x480 with 1 Axes>"
            ]
          },
          "metadata": {},
          "output_type": "display_data"
        }
      ],
      "source": [
        "# Try this multiple times: we are loading the same image, but with a different\n",
        "# rotation each time.\n",
        "image, label = next(iter(train_data))\n",
        "plt.imshow(image[0], cmap='gray')"
      ]
    },
    {
      "cell_type": "code",
      "execution_count": 7,
      "metadata": {
        "id": "BUdq1z3qJkAf"
      },
      "outputs": [],
      "source": [
        "# Loaders are used to shuffle, batch, and possibly sample the elements of the dataset\n",
        "train_loader = torch.utils.data.DataLoader(train_data, batch_size=64, shuffle=True)"
      ]
    },
    {
      "cell_type": "code",
      "execution_count": 8,
      "metadata": {
        "id": "lfQvNBvwJ7ji"
      },
      "outputs": [],
      "source": [
        "# A Batch\n",
        "xb, yb = next(iter(train_loader))"
      ]
    },
    {
      "cell_type": "code",
      "execution_count": 10,
      "metadata": {
        "colab": {
          "base_uri": "https://localhost:8080/"
        },
        "id": "IAEprInNKJyS",
        "outputId": "848b5ea0-d38f-45ee-90bb-39f75d6f9059"
      },
      "outputs": [
        {
          "data": {
            "text/plain": [
              "torch.Size([64, 1, 28, 28])"
            ]
          },
          "execution_count": 10,
          "metadata": {},
          "output_type": "execute_result"
        }
      ],
      "source": [
        "# Shape is now (batch_size (samples), channels, height, width)\n",
        "xb.shape"
      ]
    },
    {
      "cell_type": "code",
      "execution_count": 15,
      "metadata": {
        "colab": {
          "base_uri": "https://localhost:8080/"
        },
        "id": "K5LlNaUnKMtu",
        "outputId": "5b5fbf6d-aad0-43ce-9c0a-ef4c508bc817"
      },
      "outputs": [
        {
          "data": {
            "text/plain": [
              "tensor([6, 4, 1, 1, 7, 6, 0, 2, 3, 9, 1, 1, 3, 4, 9, 6, 4, 1, 8, 9, 1, 8, 9, 6,\n",
              "        6, 2, 2, 0, 6, 8, 9, 3, 5, 9, 3, 2, 3, 0, 9, 4, 8, 3, 7, 8, 2, 3, 2, 4,\n",
              "        1, 0, 0, 0, 5, 5, 2, 8, 3, 8, 8, 7, 9, 3, 9, 1])"
            ]
          },
          "execution_count": 15,
          "metadata": {},
          "output_type": "execute_result"
        }
      ],
      "source": [
        "# Target shape is now (batch_size,)\n",
        "yb"
      ]
    },
    {
      "cell_type": "code",
      "execution_count": 9,
      "metadata": {
        "id": "qCbAM_dNKh51"
      },
      "outputs": [],
      "source": [
        "# Loading the test data is similar, but:\n",
        "# (a) - We do not apply data augmentation,\n",
        "# (b) - We do not shuffle when building the mini-batches.\n",
        "test_data = torchvision.datasets.KMNIST('./data', train=False, transform=T.ToTensor())\n",
        "test_loader = torch.utils.data.DataLoader(test_data, batch_size=64, shuffle=False)"
      ]
    },
    {
      "cell_type": "markdown",
      "metadata": {
        "id": "vW2fGbQ74vcE"
      },
      "source": [
        "## Interlude: Using layers in PyTorch\n",
        "\n",
        "See the list of all available layers here: https://pytorch.org/docs/stable/nn.html."
      ]
    },
    {
      "cell_type": "code",
      "execution_count": 5,
      "metadata": {
        "id": "W5qLEDzLK_WQ"
      },
      "outputs": [],
      "source": [
        "# 1 input channel, 16 output channels, 5x5 kernel size\n",
        "# Input channel corresponds on the channels of the image\n",
        "#\n",
        "#                  I x O x K, padding,  stride\n",
        "conv2d = nn.Conv2d(1, 16, 5, padding=2, stride=2)"
      ]
    },
    {
      "cell_type": "code",
      "execution_count": 13,
      "metadata": {
        "colab": {
          "base_uri": "https://localhost:8080/"
        },
        "id": "OBRb5Zh_N1rt",
        "outputId": "d6423969-8256-4234-ae54-dd25880f44a8"
      },
      "outputs": [
        {
          "data": {
            "text/plain": [
              "torch.Size([64, 16, 14, 14])"
            ]
          },
          "execution_count": 13,
          "metadata": {},
          "output_type": "execute_result"
        }
      ],
      "source": [
        "conv2d(xb).shape\n",
        "# Batch_size (samples) = 64\n",
        "# Output channels = 16\n",
        "# Height = 14\n",
        "# Width = 14"
      ]
    },
    {
      "cell_type": "code",
      "execution_count": null,
      "metadata": {
        "colab": {
          "base_uri": "https://localhost:8080/"
        },
        "id": "cpEYNqe-oq6_",
        "outputId": "8e90f08e-f302-4542-aaf3-db42e930b522"
      },
      "outputs": [],
      "source": [
        "# Pool size of 2x2\n",
        "kernel_size = 2\n",
        "nn.MaxPool2d(kernel_size=kernel_size)(xb).shape\n",
        "# Batch_size (samples) = 64\n",
        "# Output channels = 1\n",
        "# Height = 14\n",
        "# Width = 14"
      ]
    },
    {
      "cell_type": "code",
      "execution_count": 15,
      "metadata": {
        "colab": {
          "base_uri": "https://localhost:8080/"
        },
        "id": "viJkkCovOgJ5",
        "outputId": "671f92de-46a9-4430-f45d-1ba0a5332f33"
      },
      "outputs": [
        {
          "name": "stdout",
          "output_type": "stream",
          "text": [
            "Name: weight | Shape: torch.Size([16, 1, 5, 5])\n",
            "Name: bias | Shape: torch.Size([16])\n"
          ]
        }
      ],
      "source": [
        "# parameters() returns a generator over parameters;\n",
        "# named_parameters() returns a generator listing also the names of the parameters.\n",
        "for n, p in conv2d.named_parameters():\n",
        "  print(F\"Name: {n} | Shape: {p.shape}\")"
      ]
    },
    {
      "cell_type": "code",
      "execution_count": 7,
      "metadata": {
        "id": "Jild7SiHPPoP"
      },
      "outputs": [],
      "source": [
        "# 0.4 = Probability of ignoring nodes\n",
        "dropout = nn.Dropout(0.4)"
      ]
    },
    {
      "cell_type": "code",
      "execution_count": 13,
      "metadata": {
        "id": "3chk9eUePn8y"
      },
      "outputs": [],
      "source": [
        "x = torch.randn((3, 2))"
      ]
    },
    {
      "cell_type": "code",
      "execution_count": 14,
      "metadata": {
        "colab": {
          "base_uri": "https://localhost:8080/"
        },
        "id": "YM8NV36WQdPo",
        "outputId": "1daf8a50-b56a-4384-b19a-b8b38d10e180"
      },
      "outputs": [
        {
          "name": "stdout",
          "output_type": "stream",
          "text": [
            "X before dropout: tensor([[ 1.3496, -0.5178],\n",
            "        [ 0.0599, -0.7011],\n",
            "        [ 0.0990,  1.0360]])\n",
            "---------------------\n",
            "X after dropout: tensor([[ 2.2494, -0.0000],\n",
            "        [ 0.0998, -1.1685],\n",
            "        [ 0.0000,  1.7267]])\n"
          ]
        }
      ],
      "source": [
        "# Training mode: some data is dropped, the other values are rescaled (inverted dropout).\n",
        "print(F\"X before dropout: {x}\")\n",
        "dropout.train()\n",
        "print(\"---------------------\")\n",
        "print(F\"X after dropout: {dropout(x)}\")"
      ]
    },
    {
      "cell_type": "code",
      "execution_count": 15,
      "metadata": {
        "colab": {
          "base_uri": "https://localhost:8080/"
        },
        "id": "sG3ftpYtPt03",
        "outputId": "b80e74d0-292b-4f41-fe96-6cc77829173b"
      },
      "outputs": [
        {
          "data": {
            "text/plain": [
              "tensor([[ 1.3496, -0.5178],\n",
              "        [ 0.0599, -0.7011],\n",
              "        [ 0.0990,  1.0360]])"
            ]
          },
          "execution_count": 15,
          "metadata": {},
          "output_type": "execute_result"
        }
      ],
      "source": [
        "# Evaluation mode: nothing happens.\n",
        "dropout.eval()\n",
        "dropout(x)"
      ]
    },
    {
      "cell_type": "code",
      "execution_count": 16,
      "metadata": {
        "id": "PHTCdEiXQxtn"
      },
      "outputs": [],
      "source": [
        "# No parameters!\n",
        "for p in dropout.parameters():\n",
        "  print(p)"
      ]
    },
    {
      "cell_type": "code",
      "execution_count": 8,
      "metadata": {
        "id": "EwGAcbYJQ7Rv"
      },
      "outputs": [],
      "source": [
        "# 16 = Number of features. \n",
        "# It must be equal to the channels in the input image\n",
        "batch_norm = nn.BatchNorm2d(16)"
      ]
    },
    {
      "cell_type": "code",
      "execution_count": 18,
      "metadata": {
        "colab": {
          "base_uri": "https://localhost:8080/"
        },
        "id": "MDqDUtx-5VBJ",
        "outputId": "097518b3-5ac4-4633-958d-7a0014ca96c3"
      },
      "outputs": [
        {
          "name": "stdout",
          "output_type": "stream",
          "text": [
            "Name: weight | torch.Size([16])\n",
            "Parameter containing:\n",
            "tensor([1., 1., 1., 1., 1., 1., 1., 1., 1., 1., 1., 1., 1., 1., 1., 1.],\n",
            "       requires_grad=True)\n",
            "----------------\n",
            "Name: bias | torch.Size([16])\n",
            "Parameter containing:\n",
            "tensor([0., 0., 0., 0., 0., 0., 0., 0., 0., 0., 0., 0., 0., 0., 0., 0.],\n",
            "       requires_grad=True)\n",
            "----------------\n"
          ]
        }
      ],
      "source": [
        "# Batch normalization has two set of parameters (alpha and beta in the slides).\n",
        "for n, p in batch_norm.named_parameters():\n",
        "  print(F\"Name: {n} | {p.shape}\")\n",
        "  print(p)\n",
        "  print(\"----------------\")"
      ]
    },
    {
      "cell_type": "code",
      "execution_count": 19,
      "metadata": {
        "colab": {
          "base_uri": "https://localhost:8080/"
        },
        "id": "n5A_JL1s5Z5B",
        "outputId": "09cc5c73-5178-458e-e80b-6ee4a5929726"
      },
      "outputs": [
        {
          "name": "stdout",
          "output_type": "stream",
          "text": [
            "torch.Size([16])\n",
            "tensor([0., 0., 0., 0., 0., 0., 0., 0., 0., 0., 0., 0., 0., 0., 0., 0.])\n",
            "torch.Size([16])\n",
            "tensor([1., 1., 1., 1., 1., 1., 1., 1., 1., 1., 1., 1., 1., 1., 1., 1.])\n",
            "torch.Size([])\n",
            "tensor(0)\n"
          ]
        }
      ],
      "source": [
        "# Buffers are additional tensors that should not be trained (in this case,\n",
        "# the running statistics of mean and variance).\n",
        "for p in batch_norm.buffers():\n",
        "  print(p.shape)\n",
        "  print(p)"
      ]
    },
    {
      "cell_type": "code",
      "execution_count": 20,
      "metadata": {
        "colab": {
          "base_uri": "https://localhost:8080/"
        },
        "id": "0U01ScYpSK4u",
        "outputId": "b605229f-0bb7-422e-a757-45ee71f28f8c"
      },
      "outputs": [
        {
          "data": {
            "text/plain": [
              "tensor([-1.0948e-08,  4.7136e-09, -3.0411e-10, -1.1784e-08,  3.5428e-08,\n",
              "         3.1019e-08,  1.3913e-08, -1.2962e-08,  5.0177e-09, -1.4141e-08,\n",
              "         3.4402e-09,  4.6680e-08,  1.7942e-08, -7.2605e-09, -6.2342e-09,\n",
              "        -3.1247e-08], grad_fn=<MeanBackward1>)"
            ]
          },
          "execution_count": 20,
          "metadata": {},
          "output_type": "execute_result"
        }
      ],
      "source": [
        "# Train mode: data is normalized, and running statistics are updated (try to run\n",
        "# again the previous cell).\n",
        "batch_norm.train()\n",
        "batch_norm(conv2d(xb)).mean([0,2,3])"
      ]
    },
    {
      "cell_type": "code",
      "execution_count": 21,
      "metadata": {
        "colab": {
          "base_uri": "https://localhost:8080/"
        },
        "id": "Jt6AkqyqR-qe",
        "outputId": "43baa30a-592c-40c2-a131-d9b5d6ef359e"
      },
      "outputs": [
        {
          "data": {
            "text/plain": [
              "tensor([ 0.0163, -0.1734, -0.0852, -0.1676,  0.2709, -0.1684, -0.0704, -0.0516,\n",
              "        -0.0391, -0.1352,  0.0427, -0.1638,  0.0784,  0.0632, -0.0186,  0.1396],\n",
              "       grad_fn=<MeanBackward1>)"
            ]
          },
          "execution_count": 21,
          "metadata": {},
          "output_type": "execute_result"
        }
      ],
      "source": [
        "# Evaluation mode: the running statistics are applied instead of the computed\n",
        "# ones. Since we only ran the model once, the statistics are still not very good\n",
        "# estimators of the true mean and variance of this mini-batch.\n",
        "batch_norm.eval()\n",
        "batch_norm(conv2d(xb)).mean([0,2,3])"
      ]
    },
    {
      "cell_type": "markdown",
      "metadata": {
        "id": "GiO1BcbbEhqI"
      },
      "source": [
        "## Part 3: Building a convolutional neural network\n",
        "\n",
        "Extending the `nn.Module` class is the most general way to define a neural network in PyTorch: https://pytorch.org/docs/stable/generated/torch.nn.Module.html."
      ]
    },
    {
      "cell_type": "code",
      "execution_count": 9,
      "metadata": {
        "id": "UhdQy-0cTGik"
      },
      "outputs": [],
      "source": [
        "class SimpleCNN(nn.Module):\n",
        "    # Note: this is a variant of the LeNet-5 network.\n",
        "    def __init__(self, *args, **kwargs):\n",
        "        super().__init__()\n",
        "        \n",
        "        self.conv1 = nn.Conv2d(1, 16, 5, padding=2, bias=False) # 1 input channel, 16 output channels, 5x5 kernel size    \n",
        "        self.conv2 = nn.Conv2d(16, 32, 5, padding=2, bias=False) # 16 input channel, 32 output channels, 5x5 kernel size\n",
        "        self.bn1 = nn.BatchNorm2d(16) # 16 = Number of features (Equals to the conv1 output channels)\n",
        "        self.bn2 = nn.BatchNorm2d(32) # 32 = Number of features (Equals to the conv2 output channels)\n",
        "        self.max_pool = nn.MaxPool2d(2) # 2 = Kernel Size\n",
        "        self.fc1 = nn.Linear(32*7*7, 100) # Fully connected layer // Input, Output\n",
        "        self.fc2 = nn.Linear(100, 10) # Fully connected layer // Input, Output\n",
        "        self.drop = nn.Dropout(0.3) # Dropout layer with probability p = 0.3\n",
        "\n",
        "    def forward(self, x):\n",
        "        x = F.relu(self.bn1(self.conv1(x)))\n",
        "        x = self.max_pool(x)\n",
        "        \n",
        "        x = F.relu(self.bn2(self.conv2(x)))\n",
        "        x = self.max_pool(x)\n",
        "        \n",
        "        # Output shape: (batch_size, 32, 7, 7)\n",
        "        x = x.reshape((-1, 32*7*7))\n",
        "        # Alternative with global average pooling: x = x.mean([2, 3])\n",
        "        \n",
        "        x = self.drop(F.relu(self.fc1(x)))\n",
        "        \n",
        "        return self.fc2(x)"
      ]
    },
    {
      "cell_type": "code",
      "execution_count": 10,
      "metadata": {
        "colab": {
          "base_uri": "https://localhost:8080/"
        },
        "id": "q44EfcWOuivZ",
        "outputId": "b1958dae-1de1-41b4-8e6d-834384df78cb"
      },
      "outputs": [
        {
          "name": "stdout",
          "output_type": "stream",
          "text": [
            "cuda\n"
          ]
        }
      ],
      "source": [
        "# We check if CUDA is available. If you do not see it,\n",
        "# activate a GPU from Runtime >> Change runtime type and \n",
        "# restart the notebook.\n",
        "device = 'cuda' if torch.cuda.is_available() else 'cpu'\n",
        "print(device)"
      ]
    },
    {
      "cell_type": "code",
      "execution_count": 58,
      "metadata": {
        "id": "rdLIBWpErKDW"
      },
      "outputs": [],
      "source": [
        "# We need to move the SimpleCNN model to the device immediately\n",
        "cnn = SimpleCNN().to(device=device)"
      ]
    },
    {
      "cell_type": "code",
      "execution_count": 59,
      "metadata": {
        "colab": {
          "base_uri": "https://localhost:8080/"
        },
        "id": "mEiY5jFNrLo4",
        "outputId": "ca000a1d-29dd-4c01-813b-97a29de767ec"
      },
      "outputs": [
        {
          "data": {
            "text/plain": [
              "torch.Size([64, 10])"
            ]
          },
          "execution_count": 59,
          "metadata": {},
          "output_type": "execute_result"
        }
      ],
      "source": [
        "# Note: we also need to move data when asking for a prediction\n",
        "cnn(xb.to(device)).shape"
      ]
    },
    {
      "cell_type": "code",
      "execution_count": 33,
      "metadata": {
        "colab": {
          "base_uri": "https://localhost:8080/"
        },
        "id": "czqNwF_Erg50",
        "outputId": "0f4408f8-e418-4cc5-f112-b67f6bcf8002"
      },
      "outputs": [
        {
          "data": {
            "text/plain": [
              "10"
            ]
          },
          "execution_count": 33,
          "metadata": {},
          "output_type": "execute_result"
        }
      ],
      "source": [
        "# We have all methods we saw before: parameters, named_parameters, buffers, train, eval, ...\n",
        "len(list(cnn.parameters()))"
      ]
    },
    {
      "cell_type": "markdown",
      "metadata": {
        "id": "GYOKzaYKFLd2"
      },
      "source": [
        "## Part 4: Training and evaluating the network"
      ]
    },
    {
      "cell_type": "code",
      "execution_count": 11,
      "metadata": {
        "id": "IkjbHWkYv6kd"
      },
      "outputs": [],
      "source": [
        "def accuracy(net, loader, device):\n",
        "  # A function that aggregates the accuracy over all mini-batches in the loader.\n",
        "  # See here for a quick-start on torchmetrics: https://torchmetrics.readthedocs.io/en/stable/pages/quickstart.html.\n",
        "  acc = torchmetrics.Accuracy().to(device)\n",
        "  for xb, yb in loader:\n",
        "      xb, yb = xb.to(device), yb.to(device)\n",
        "      ypred = net(xb)\n",
        "      _ = acc(ypred, yb)\n",
        "  return acc.compute()"
      ]
    },
    {
      "cell_type": "code",
      "execution_count": 35,
      "metadata": {
        "colab": {
          "base_uri": "https://localhost:8080/"
        },
        "id": "5MzcnTwiwhCy",
        "outputId": "aebbbd6b-5a8f-434d-8cbd-57297796f737"
      },
      "outputs": [
        {
          "data": {
            "text/plain": [
              "tensor(0.0978, device='cuda:0')"
            ]
          },
          "execution_count": 35,
          "metadata": {},
          "output_type": "execute_result"
        }
      ],
      "source": [
        "# Average accuracy at initialization is 11% (random guessing).\n",
        "accuracy(cnn, test_loader, device)"
      ]
    },
    {
      "cell_type": "code",
      "execution_count": null,
      "metadata": {
        "id": "P0emGad9scg6"
      },
      "outputs": [],
      "source": [
        "# Note: it is important to move the CNN to the device before initializing the optimizer,\n",
        "# since the optimizer also has a state that must be moved to the GPU.\n",
        "loss = nn.CrossEntropyLoss()\n",
        "opt = torch.optim.Adam(cnn.parameters())\n",
        "epochs = 4"
      ]
    },
    {
      "cell_type": "code",
      "execution_count": 150,
      "metadata": {
        "colab": {
          "base_uri": "https://localhost:8080/"
        },
        "id": "9bI17NiLs8B_",
        "outputId": "9baba486-a65d-4293-8818-004f81409a75"
      },
      "outputs": [],
      "source": [
        "def train(epochs, loss, optim):\n",
        "\n",
        "  for epoch in range(epochs):\n",
        "    \n",
        "    # We put the CNN in training mode\n",
        "    cnn.train()\n",
        "\n",
        "    # We iterate over the train loader, taking batches of xb, yb.\n",
        "    for xb, yb in tqdm.tqdm(train_loader):\n",
        "\n",
        "      xb, yb = xb.to(device), yb.to(device) # Move them to the GPU\n",
        "\n",
        "      #optim.zero_grad() # We empty the gradients\n",
        "      for param in cnn.parameters():\n",
        "        param.grad = None\n",
        "        \n",
        "      ypred = cnn(xb) # Actual prediction of our model\n",
        "      l = loss(ypred, yb) # We perform a Cross Entropy Loss between the real value and our prediction\n",
        "\n",
        "      l.backward() # We compute the gradients\n",
        "      optim.step() # Parameters updated -> Single step optimization\n",
        "\n",
        "    with torch.no_grad():\n",
        "      cnn.eval() # We put the CNN in evaluation mode for testing the accuracy over the test set\n",
        "      print(f'Accuracy at epoch {epoch}: {accuracy(cnn, test_loader, device)}')"
      ]
    },
    {
      "cell_type": "code",
      "execution_count": null,
      "metadata": {},
      "outputs": [],
      "source": [
        "train(epochs=epochs, loss=loss, optim=opt)"
      ]
    },
    {
      "cell_type": "markdown",
      "metadata": {
        "id": "1HD5F-3zH4uc"
      },
      "source": [
        "## Exercises"
      ]
    },
    {
      "cell_type": "markdown",
      "metadata": {},
      "source": [
        "### 1. Can you add L2 regularization to the loss? Hint: you can use the `parameters()` iterator to loop over the parameters and compute the L2 norm for each (or even better, exclude the biases)."
      ]
    },
    {
      "cell_type": "code",
      "execution_count": null,
      "metadata": {},
      "outputs": [],
      "source": [
        "def computeL2Norm(cnn, l2_lambda): \n",
        "    lossL2 = 0\n",
        "    # parameters() returns a generator over parameters;\n",
        "    # named_parameters() returns a generator listing also the names of the parameters.\n",
        "    for n, p in cnn.named_parameters():\n",
        "        # For 'bias' we skip the L2.\n",
        "        if (\"bias\" in n):\n",
        "            continue\n",
        "        else:\n",
        "            L2norm = p.pow(2.0).sum()\n",
        "            lossL2 += L2norm\n",
        "            #print(F\"Name: {n} | {p.shape}\")\n",
        "            #print(p)\n",
        "            #print(F\"L2 Norm for {n}: {L2norm}\")\n",
        "            #print(\"----------------\")\n",
        "    return lossL2 * (l2_lambda / 2)\n",
        "\n",
        "l2_lambda = 0.001\n",
        "\n",
        "for epoch in range(epochs):\n",
        "  \n",
        "  # We put the CNN in training mode\n",
        "  cnn.train()\n",
        "\n",
        "  # We iterate over the train loader, taking batches of xb, yb.\n",
        "  for xb, yb in tqdm.tqdm(train_loader):\n",
        "    \n",
        "    xb, yb = xb.to(device), yb.to(device) # Move them to the GPU\n",
        "\n",
        "    opt.zero_grad() # We empty the gradients\n",
        "    ypred = cnn(xb) # Actual prediction of our model\n",
        "    l = loss(ypred, yb) # We perform a Cross Entropy Loss between the real value and our prediction\n",
        "     \n",
        "    l2_norm = computeL2Norm(cnn, l2_lambda)\n",
        "    l += l2_norm\n",
        "\n",
        "    l.backward() # We compute the gradients\n",
        "    opt.step() # Parameters updated -> Single step optimization\n",
        "\n",
        "  cnn.eval() # We put the CNN in evaluation mode for testing the accuracy over the test set\n",
        "  print(f'Accuracy at epoch {epoch}: {accuracy(cnn, test_loader, device)}')"
      ]
    },
    {
      "cell_type": "markdown",
      "metadata": {},
      "source": [
        "### 2. You can try experimenting with more advanced data augmentation pipelines. <br>For example, torchvision has [advanced data augmentation policies](https://pytorch.org/vision/stable/transforms.html#generic-transforms), or you can check the [Albumentations](https://albumentations.ai/docs/) library."
      ]
    },
    {
      "cell_type": "code",
      "execution_count": 35,
      "metadata": {},
      "outputs": [],
      "source": [
        "# T.Compose allows to chain together multiple transformations\n",
        "train_transforms = T.Compose([\n",
        "    #T.RandAugment(num_ops=4),\n",
        "    T.AutoAugment(),\n",
        "    T.ToTensor()\n",
        "])"
      ]
    },
    {
      "cell_type": "code",
      "execution_count": 15,
      "metadata": {},
      "outputs": [],
      "source": [
        "train_data = torchvision.datasets.KMNIST('./data', train=True, download=True, transform=train_transforms)\n",
        "train_loader = torch.utils.data.DataLoader(train_data, batch_size=64, shuffle=True)\n",
        "\n",
        "test_data = torchvision.datasets.KMNIST('./data', train=False, download=True, transform=T.ToTensor())\n",
        "test_loader = torch.utils.data.DataLoader(test_data, batch_size=64, shuffle=False)"
      ]
    },
    {
      "cell_type": "code",
      "execution_count": 147,
      "metadata": {},
      "outputs": [
        {
          "data": {
            "image/png": "[encoded data removed]",
            "text/plain": [
              "<Figure size 640x480 with 1 Axes>"
            ]
          },
          "metadata": {},
          "output_type": "display_data"
        }
      ],
      "source": [
        "# Example\n",
        "for xb, yb in train_data:\n",
        "    plt.imshow(xb[0], cmap='gray')\n",
        "    break"
      ]
    },
    {
      "cell_type": "code",
      "execution_count": null,
      "metadata": {},
      "outputs": [],
      "source": [
        "train(epochs=epochs, loss=loss, optim=opt)"
      ]
    },
    {
      "cell_type": "markdown",
      "metadata": {},
      "source": [
        "### 3. You can check the [Performance tuning](https://pytorch.org/tutorials/recipes/recipes/tuning_guide.html) guide for many interesting tricks to speed-up computations; These include for our case:<br>(a) Optimizing the DataLoader<br>(b) Encapsulating `accuracy` in a `torch.no_grad` decorator<br>(c) Removing biases from the convolutional layers (since they are followed by a batch normalization layer)<br>(d) Enabling the \"channels last\" format<br>(e) Using the PyTorch JIT compiler."
      ]
    },
    {
      "cell_type": "code",
      "execution_count": 36,
      "metadata": {},
      "outputs": [],
      "source": [
        "train_loader = torch.utils.data.DataLoader(train_data, batch_size=64, shuffle=True, num_workers=8)\n",
        "test_loader = torch.utils.data.DataLoader(test_data, batch_size=64, shuffle=False, num_workers=8)\n",
        "\n",
        "cudnn.benchmark = True\n",
        "\n",
        "# Also added:\n",
        "# - 'with torch.no_grad():' while evaluating our model on the test set\n",
        "# - Added 'bias=False' to the conv2D Layers as explicited in documentation\n",
        "# - Changed 'optim.zero_grad()' to:\n",
        "#    for param in model.parameters():\n",
        "#        param.grad = None\n",
        "#   for zero-ing the gradients.\n",
        "# - Added 'torch.backends.cudnn.benchmark = True'\n"
      ]
    },
    {
      "cell_type": "code",
      "execution_count": 163,
      "metadata": {},
      "outputs": [
        {
          "name": "stderr",
          "output_type": "stream",
          "text": [
            "100%|██████████| 938/938 [00:18<00:00, 50.67it/s] \n"
          ]
        },
        {
          "name": "stdout",
          "output_type": "stream",
          "text": [
            "Accuracy at epoch 0: 0.9592999815940857\n"
          ]
        },
        {
          "name": "stderr",
          "output_type": "stream",
          "text": [
            "100%|██████████| 938/938 [00:16<00:00, 57.16it/s] \n"
          ]
        },
        {
          "name": "stdout",
          "output_type": "stream",
          "text": [
            "Accuracy at epoch 1: 0.9634000062942505\n"
          ]
        },
        {
          "name": "stderr",
          "output_type": "stream",
          "text": [
            "100%|██████████| 938/938 [00:14<00:00, 63.32it/s] \n"
          ]
        },
        {
          "name": "stdout",
          "output_type": "stream",
          "text": [
            "Accuracy at epoch 2: 0.9605000019073486\n"
          ]
        },
        {
          "name": "stderr",
          "output_type": "stream",
          "text": [
            "100%|██████████| 938/938 [00:15<00:00, 59.66it/s] \n"
          ]
        },
        {
          "name": "stdout",
          "output_type": "stream",
          "text": [
            "Accuracy at epoch 3: 0.9646999835968018\n"
          ]
        },
        {
          "name": "stderr",
          "output_type": "stream",
          "text": [
            "100%|██████████| 938/938 [00:15<00:00, 62.08it/s] \n"
          ]
        },
        {
          "name": "stdout",
          "output_type": "stream",
          "text": [
            "Accuracy at epoch 4: 0.95660001039505\n"
          ]
        }
      ],
      "source": [
        "train(epochs=epochs, loss=loss, optim=opt)"
      ]
    },
    {
      "cell_type": "markdown",
      "metadata": {},
      "source": [
        "### 4. Can you add residual connections? It's very simple in this case, and it probably will not improve performance very much.\n"
      ]
    },
    {
      "cell_type": "code",
      "execution_count": 82,
      "metadata": {},
      "outputs": [],
      "source": [
        "class SimpleCNN_Res(nn.Module):\n",
        "    # Note: this is a variant of the LeNet-5 network.\n",
        "    def __init__(self, *args, **kwargs):\n",
        "        super().__init__()\n",
        "        \n",
        "        self.conv_block1 = nn.Sequential(\n",
        "\t\t\tnn.Conv2d(1, 16, 5, padding=2, bias=False), # 1 input channel, 16 output channels, 5x5 kernel size    \n",
        "\t\t\tnn.BatchNorm2d(16), # 16 = Number of features (Equals to the conv1 input channels)\n",
        "\t\t\tnn.ReLU(),\n",
        "            nn.MaxPool2d(2) # 2 = Kernel Size\n",
        "\t\t) \n",
        "        self.conv_block2 = nn.Sequential(\n",
        "\t\t\tnn.Conv2d(16, 32, 5, padding=2, bias=False), # 16 input channel, 32 output channels, 5x5 kernel size\n",
        "\t\t\tnn.BatchNorm2d(32), # 32 = Number of features (Equals to the conv1 input channels)\n",
        "\t\t\tnn.ReLU(),\n",
        "            nn.MaxPool2d(2) # 2 = Kernel Size\n",
        "\t\t) \n",
        "\n",
        "        self.fc1 = nn.Linear(32*7*7, 100) # Fully connected layer // Input, Output\n",
        "        self.fc2 = nn.Linear(100, 10) # Fully connected layer // Input, Output\n",
        "        self.drop = nn.Dropout(0.3) # Dropout layer with probability p = 0.3\n",
        "\n",
        "    def forward(self, x):\n",
        "\n",
        "        residual = x\n",
        "\n",
        "        x = self.conv_block1(x) # First block\n",
        "        residual = TF.resize(residual, x.shape[2])\n",
        "        x += residual\n",
        "\n",
        "        x = self.conv_block2(x) # Second block\n",
        "        residual = TF.resize(residual, x.shape[2])\n",
        "        x += residual\n",
        "\n",
        "        x = x.reshape((-1, 32*7*7)) # Output shape: (batch_size, 32, 7, 7)\n",
        "\n",
        "        # Alternative with global average pooling: x = x.mean([2, 3])\n",
        "        x = self.fc1(x)\n",
        "        x = F.relu(x)\n",
        "        x = self.drop(x)\n",
        "        x = self.fc2(x)\n",
        "        return x"
      ]
    },
    {
      "cell_type": "code",
      "execution_count": 81,
      "metadata": {},
      "outputs": [
        {
          "name": "stderr",
          "output_type": "stream",
          "text": [
            "100%|██████████| 938/938 [00:35<00:00, 26.35it/s]\n"
          ]
        },
        {
          "name": "stdout",
          "output_type": "stream",
          "text": [
            "Accuracy at epoch 0: 0.8805000185966492\n"
          ]
        },
        {
          "name": "stderr",
          "output_type": "stream",
          "text": [
            "100%|██████████| 938/938 [00:36<00:00, 25.90it/s]\n"
          ]
        },
        {
          "name": "stdout",
          "output_type": "stream",
          "text": [
            "Accuracy at epoch 1: 0.9082000255584717\n"
          ]
        },
        {
          "name": "stderr",
          "output_type": "stream",
          "text": [
            "100%|██████████| 938/938 [00:35<00:00, 26.37it/s]\n"
          ]
        },
        {
          "name": "stdout",
          "output_type": "stream",
          "text": [
            "Accuracy at epoch 2: 0.9258999824523926\n"
          ]
        },
        {
          "name": "stderr",
          "output_type": "stream",
          "text": [
            "100%|██████████| 938/938 [00:32<00:00, 29.30it/s]\n"
          ]
        },
        {
          "name": "stdout",
          "output_type": "stream",
          "text": [
            "Accuracy at epoch 3: 0.9225000143051147\n"
          ]
        }
      ],
      "source": [
        "cnn = SimpleCNN_Res().to(device=device)\n",
        "loss = nn.CrossEntropyLoss()\n",
        "opt = torch.optim.Adam(cnn.parameters())\n",
        "epochs = 4\n",
        "train(epochs=epochs, loss=loss, optim=opt)"
      ]
    },
    {
      "cell_type": "markdown",
      "metadata": {},
      "source": [
        "### 5. [Composer](https://github.com/mosaicml/composer) is an interesting library to apply transformations to speed up training; as an example, you can try adding CutMix to the data loading."
      ]
    },
    {
      "cell_type": "code",
      "execution_count": 83,
      "metadata": {},
      "outputs": [],
      "source": [
        "def trainComposer(epochs, loss_fn, optim):\n",
        "  for epoch in range(epochs):\n",
        "    \n",
        "    # We put the CNN in training mode\n",
        "    cnn.train()\n",
        "\n",
        "    # We iterate over the train loader, taking batches of xb, yb.\n",
        "    for xb, yb in tqdm.tqdm(train_loader):\n",
        "      \n",
        "      xb, yb = xb.to(device), yb.to(device) # Move them to the GPU\n",
        "\n",
        "      X_cutmix, y_perm, area, _ = cf.cutmix_batch(xb, yb, alpha=0.2)\n",
        "\n",
        "      X_cutmix = X_cutmix.to(device)\n",
        "      y_perm = y_perm.to(device)\n",
        "\n",
        "      y_hat = cnn(X_cutmix).to(device)\n",
        "      \n",
        "      loss = area * loss_fn(y_hat, yb) + (1 - area) * loss_fn(y_hat, y_perm)\n",
        "\n",
        "      loss.backward() # We compute the gradients\n",
        "      optim.step() # Parameters updated -> Single step optimization\n",
        "\n",
        "      # We empty the gradients\n",
        "      for param in cnn.parameters():\n",
        "        param.grad = None\n",
        "        \n",
        "    with torch.no_grad():\n",
        "      cnn.eval() # We put the CNN in evaluation mode for testing the accuracy over the test set\n",
        "      print(f'Accuracy at epoch {epoch}: {accuracy(cnn, test_loader, device)}')"
      ]
    },
    {
      "cell_type": "code",
      "execution_count": 84,
      "metadata": {},
      "outputs": [
        {
          "name": "stderr",
          "output_type": "stream",
          "text": [
            "100%|██████████| 938/938 [00:33<00:00, 27.86it/s]\n"
          ]
        },
        {
          "name": "stdout",
          "output_type": "stream",
          "text": [
            "Accuracy at epoch 0: 0.8284000158309937\n"
          ]
        },
        {
          "name": "stderr",
          "output_type": "stream",
          "text": [
            "100%|██████████| 938/938 [00:33<00:00, 28.22it/s]\n"
          ]
        },
        {
          "name": "stdout",
          "output_type": "stream",
          "text": [
            "Accuracy at epoch 1: 0.8672000169754028\n"
          ]
        },
        {
          "name": "stderr",
          "output_type": "stream",
          "text": [
            "100%|██████████| 938/938 [00:33<00:00, 28.15it/s]\n"
          ]
        },
        {
          "name": "stdout",
          "output_type": "stream",
          "text": [
            "Accuracy at epoch 2: 0.8709999918937683\n"
          ]
        },
        {
          "name": "stderr",
          "output_type": "stream",
          "text": [
            "100%|██████████| 938/938 [00:32<00:00, 28.51it/s]\n"
          ]
        },
        {
          "name": "stdout",
          "output_type": "stream",
          "text": [
            "Accuracy at epoch 3: 0.8989999890327454\n"
          ]
        }
      ],
      "source": [
        "cnn = SimpleCNN_Res().to(device=device)\n",
        "loss = nn.CrossEntropyLoss()\n",
        "opt = torch.optim.Adam(cnn.parameters())\n",
        "epochs = 4\n",
        "trainComposer(epochs=epochs, loss_fn=loss, optim=opt)"
      ]
    },
    {
      "cell_type": "markdown",
      "metadata": {},
      "source": [
        "### 6. Can you add early stopping? Note: you need a validation set + a check at the end of every epoch.\n"
      ]
    },
    {
      "cell_type": "code",
      "execution_count": 113,
      "metadata": {},
      "outputs": [
        {
          "name": "stderr",
          "output_type": "stream",
          "text": [
            "100%|██████████| 938/938 [00:35<00:00, 26.50it/s]\n",
            "100%|██████████| 157/157 [00:02<00:00, 72.39it/s]\n"
          ]
        },
        {
          "name": "stdout",
          "output_type": "stream",
          "text": [
            "Train Loss at epoch 0: 0.49097\n",
            "Val Loss at epoch 0: 0.39283\n"
          ]
        },
        {
          "name": "stderr",
          "output_type": "stream",
          "text": [
            "100%|██████████| 938/938 [00:32<00:00, 28.74it/s]\n",
            "100%|██████████| 157/157 [00:02<00:00, 74.05it/s]\n"
          ]
        },
        {
          "name": "stdout",
          "output_type": "stream",
          "text": [
            "Train Loss at epoch 1: 0.24910\n",
            "Val Loss at epoch 1: 0.29397\n"
          ]
        },
        {
          "name": "stderr",
          "output_type": "stream",
          "text": [
            "100%|██████████| 938/938 [00:32<00:00, 28.71it/s]\n",
            "100%|██████████| 157/157 [00:02<00:00, 73.58it/s]\n"
          ]
        },
        {
          "name": "stdout",
          "output_type": "stream",
          "text": [
            "Train Loss at epoch 2: 0.20475\n",
            "Val Loss at epoch 2: 0.32368\n"
          ]
        },
        {
          "name": "stderr",
          "output_type": "stream",
          "text": [
            "100%|██████████| 938/938 [00:32<00:00, 28.61it/s]\n",
            "100%|██████████| 157/157 [00:02<00:00, 73.09it/s]\n"
          ]
        },
        {
          "name": "stdout",
          "output_type": "stream",
          "text": [
            "Train Loss at epoch 3: 0.17806\n",
            "Val Loss at epoch 3: 0.23818\n"
          ]
        },
        {
          "name": "stderr",
          "output_type": "stream",
          "text": [
            "100%|██████████| 938/938 [00:32<00:00, 28.76it/s]\n",
            "100%|██████████| 157/157 [00:02<00:00, 74.04it/s]\n"
          ]
        },
        {
          "name": "stdout",
          "output_type": "stream",
          "text": [
            "Train Loss at epoch 4: 0.15680\n",
            "Val Loss at epoch 4: 0.23995\n"
          ]
        },
        {
          "name": "stderr",
          "output_type": "stream",
          "text": [
            "100%|██████████| 938/938 [00:32<00:00, 28.71it/s]\n",
            "100%|██████████| 157/157 [00:02<00:00, 72.61it/s]\n"
          ]
        },
        {
          "name": "stdout",
          "output_type": "stream",
          "text": [
            "Train Loss at epoch 5: 0.14421\n",
            "Val Loss at epoch 5: 0.21977\n"
          ]
        },
        {
          "name": "stderr",
          "output_type": "stream",
          "text": [
            "100%|██████████| 938/938 [00:32<00:00, 28.61it/s]\n",
            "100%|██████████| 157/157 [00:02<00:00, 72.80it/s]\n"
          ]
        },
        {
          "name": "stdout",
          "output_type": "stream",
          "text": [
            "Train Loss at epoch 6: 0.13386\n",
            "Val Loss at epoch 6: 0.24014\n"
          ]
        },
        {
          "name": "stderr",
          "output_type": "stream",
          "text": [
            "100%|██████████| 938/938 [00:32<00:00, 28.67it/s]\n",
            "100%|██████████| 157/157 [00:02<00:00, 71.64it/s]\n"
          ]
        },
        {
          "name": "stdout",
          "output_type": "stream",
          "text": [
            "Train Loss at epoch 7: 0.12466\n",
            "Val Loss at epoch 7: 0.21236\n"
          ]
        },
        {
          "name": "stderr",
          "output_type": "stream",
          "text": [
            "100%|██████████| 938/938 [00:32<00:00, 28.52it/s]\n",
            "100%|██████████| 157/157 [00:02<00:00, 71.83it/s]\n"
          ]
        },
        {
          "name": "stdout",
          "output_type": "stream",
          "text": [
            "Train Loss at epoch 8: 0.12150\n",
            "Val Loss at epoch 8: 0.23113\n"
          ]
        },
        {
          "name": "stderr",
          "output_type": "stream",
          "text": [
            "100%|██████████| 938/938 [00:33<00:00, 28.35it/s]\n",
            "100%|██████████| 157/157 [00:02<00:00, 73.21it/s]\n"
          ]
        },
        {
          "name": "stdout",
          "output_type": "stream",
          "text": [
            "Train Loss at epoch 9: 0.11213\n",
            "Val Loss at epoch 9: 0.19348\n"
          ]
        },
        {
          "name": "stderr",
          "output_type": "stream",
          "text": [
            "100%|██████████| 938/938 [00:32<00:00, 28.63it/s]\n",
            "100%|██████████| 157/157 [00:02<00:00, 73.81it/s]\n"
          ]
        },
        {
          "name": "stdout",
          "output_type": "stream",
          "text": [
            "Train Loss at epoch 10: 0.10727\n",
            "Val Loss at epoch 10: 0.19848\n"
          ]
        },
        {
          "name": "stderr",
          "output_type": "stream",
          "text": [
            "100%|██████████| 938/938 [00:32<00:00, 28.66it/s]\n",
            "100%|██████████| 157/157 [00:02<00:00, 72.23it/s]\n"
          ]
        },
        {
          "name": "stdout",
          "output_type": "stream",
          "text": [
            "Train Loss at epoch 11: 0.10106\n",
            "Val Loss at epoch 11: 0.17671\n"
          ]
        },
        {
          "name": "stderr",
          "output_type": "stream",
          "text": [
            "100%|██████████| 938/938 [00:32<00:00, 28.64it/s]\n",
            "100%|██████████| 157/157 [00:02<00:00, 73.57it/s]\n"
          ]
        },
        {
          "name": "stdout",
          "output_type": "stream",
          "text": [
            "Train Loss at epoch 12: 0.09878\n",
            "Val Loss at epoch 12: 0.20659\n"
          ]
        },
        {
          "name": "stderr",
          "output_type": "stream",
          "text": [
            "100%|██████████| 938/938 [00:32<00:00, 28.61it/s]\n",
            "100%|██████████| 157/157 [00:02<00:00, 73.96it/s]\n"
          ]
        },
        {
          "name": "stdout",
          "output_type": "stream",
          "text": [
            "Train Loss at epoch 13: 0.09495\n",
            "Val Loss at epoch 13: 0.18157\n"
          ]
        },
        {
          "name": "stderr",
          "output_type": "stream",
          "text": [
            "100%|██████████| 938/938 [00:32<00:00, 28.64it/s]\n",
            "100%|██████████| 157/157 [00:02<00:00, 72.28it/s]"
          ]
        },
        {
          "name": "stdout",
          "output_type": "stream",
          "text": [
            "Train Loss at epoch 14: 0.08986\n",
            "Val Loss at epoch 14: 0.18283\n",
            "Early stopping ...\n",
            "Best loss was: 0.177\n"
          ]
        },
        {
          "name": "stderr",
          "output_type": "stream",
          "text": [
            "\n"
          ]
        }
      ],
      "source": [
        "cnn = SimpleCNN().to(device=device)\n",
        "loss = nn.CrossEntropyLoss()\n",
        "opt = torch.optim.Adam(cnn.parameters())\n",
        "epochs = 50\n",
        "early_stopping = True\n",
        "nepochs = 0\n",
        "\n",
        "if(early_stopping):\n",
        "  valid_losses = []\n",
        "  avg_valid_losses = []\n",
        "  train_losses = []\n",
        "  avg_train_losses = []\n",
        "  patience = 3\n",
        "  i = 0\n",
        "  best_loss = 1.0\n",
        "\n",
        "for epoch in range(epochs):\n",
        "  \n",
        "  # We put the CNN in training mode\n",
        "  cnn.train()\n",
        "\n",
        "  # We iterate over the train loader, taking batches of xb, yb.\n",
        "  for xb, yb in tqdm.tqdm(train_loader):\n",
        "    \n",
        "    xb, yb = xb.to(device), yb.to(device) # Move them to the GPU\n",
        "\n",
        "    #opt.zero_grad() # We empty the gradients\n",
        "    for param in cnn.parameters():\n",
        "      param.grad = None\n",
        "      \n",
        "    ypred = cnn(xb) # Actual prediction of our model\n",
        "    l = loss(ypred, yb) # We perform a Cross Entropy Loss between the real value and our prediction\n",
        "    train_losses.append(l.item())\n",
        "    l.backward() # We compute the gradients\n",
        "    opt.step() # Parameters updated -> Single step optimization\n",
        "\n",
        "  with torch.no_grad():\n",
        "    cnn.eval() # We put the CNN in evaluation mode for testing the accuracy over the test set\n",
        "\n",
        "    for xtest, ytest in tqdm.tqdm(test_loader):\n",
        "        xtest, ytest = xtest.to(device), ytest.to(device) # Move them to the GPU\n",
        "      \n",
        "        ypred = cnn(xtest) # Actual prediction of our model\n",
        "        l_test = loss(ypred, ytest) # We perform a Cross Entropy Loss between the real value and our prediction\n",
        "        valid_losses.append(l_test.item())\n",
        "\n",
        "  avg_t_loss = np.average(train_losses)\n",
        "  avg_v_loss = np.average(valid_losses)\n",
        "\n",
        "  print(F'Train Loss at epoch {epoch}: {avg_t_loss:.5f}')\n",
        "  print(F'Val Loss at epoch {epoch}: {avg_v_loss:.5f}')\n",
        "  avg_train_losses.append(avg_t_loss)\n",
        "  avg_valid_losses.append(avg_v_loss)\n",
        "\n",
        "  if avg_v_loss < best_loss:\n",
        "    best_loss = avg_v_loss\n",
        "    i = 0\n",
        "  else:\n",
        "    i += 1\n",
        "\n",
        "  nepochs += 1\n",
        "  \n",
        "  if (i >= patience):\n",
        "    print(\"Early stopping ...\")\n",
        "    print(F\"Best loss was: {best_loss:.3f}\")\n",
        "    break\n",
        "  else:  # At this point also save a snapshot of the current model\n",
        "    train_losses = []\n",
        "    valid_losses = []"
      ]
    },
    {
      "cell_type": "code",
      "execution_count": 114,
      "metadata": {},
      "outputs": [
        {
          "name": "stdout",
          "output_type": "stream",
          "text": [
            "Final accuracy of the model: 95.410%\n"
          ]
        }
      ],
      "source": [
        "cnn.eval() # We put the CNN in evaluation mode for testing the accuracy over the test set\n",
        "print(f'Final accuracy of the model: {accuracy(cnn, test_loader, device)*100:.3f}%')"
      ]
    },
    {
      "cell_type": "code",
      "execution_count": 142,
      "metadata": {},
      "outputs": [
        {
          "data": {
            "image/png": "[encoded data removed]",
            "text/plain": [
              "<Figure size 704x528 with 1 Axes>"
            ]
          },
          "metadata": {},
          "output_type": "display_data"
        }
      ],
      "source": [
        "nepochs = 15\n",
        "epochs = np.arange(0,nepochs,1)\n",
        "\n",
        "plt.figure(dpi=110)\n",
        "plt.title(\"Loss with Early Stopping\")\n",
        "#plt.xlabel('Epochs')\n",
        "#plt.ylabel('Loss')\n",
        "plt.plot(epochs, avg_train_losses, label=\"Train loss\", c=\"blue\")\n",
        "plt.plot(epochs, avg_valid_losses, label=\"Validation loss\", c=\"red\")\n",
        "plt.xticks(epochs)\n",
        "plt.legend()\n",
        "plt.show()"
      ]
    },
    {
      "cell_type": "markdown",
      "metadata": {},
      "source": [
        "### 7. You can try [fine-tuning an existing model](https://pytorch.org/vision/stable/models.html) instead of building one from scratch.<br>In this case, you need to preprocess the images to an RGB format."
      ]
    },
    {
      "cell_type": "code",
      "execution_count": 13,
      "metadata": {},
      "outputs": [],
      "source": [
        "def accuracy(net, loader, device):\n",
        "  # A function that aggregates the accuracy over all mini-batches in the loader.\n",
        "  # See here for a quick-start on torchmetrics: https://torchmetrics.readthedocs.io/en/stable/pages/quickstart.html.\n",
        "  acc = torchmetrics.Accuracy().to(device)\n",
        "  for xb, yb in tqdm.tqdm(loader):\n",
        "      xb = xb.repeat(1, 3, 1, 1) # RGB ;)\n",
        "      xb, yb = xb.to(device), yb.to(device)\n",
        "      ypred = net(xb)\n",
        "      _ = acc(ypred, yb)\n",
        "  return acc.compute()"
      ]
    },
    {
      "cell_type": "code",
      "execution_count": 16,
      "metadata": {},
      "outputs": [
        {
          "name": "stderr",
          "output_type": "stream",
          "text": [
            "100%|██████████| 938/938 [01:22<00:00, 11.43it/s]\n",
            "100%|██████████| 157/157 [00:03<00:00, 44.76it/s]\n"
          ]
        },
        {
          "name": "stdout",
          "output_type": "stream",
          "text": [
            "Accuracy at epoch 0: 92.270\n"
          ]
        },
        {
          "name": "stderr",
          "output_type": "stream",
          "text": [
            "100%|██████████| 938/938 [01:13<00:00, 12.81it/s]\n",
            "100%|██████████| 157/157 [00:03<00:00, 42.88it/s]\n"
          ]
        },
        {
          "name": "stdout",
          "output_type": "stream",
          "text": [
            "Accuracy at epoch 1: 94.010\n"
          ]
        },
        {
          "name": "stderr",
          "output_type": "stream",
          "text": [
            "100%|██████████| 938/938 [01:09<00:00, 13.46it/s]\n",
            "100%|██████████| 157/157 [00:03<00:00, 47.68it/s]\n"
          ]
        },
        {
          "name": "stdout",
          "output_type": "stream",
          "text": [
            "Accuracy at epoch 2: 96.010\n"
          ]
        },
        {
          "name": "stderr",
          "output_type": "stream",
          "text": [
            "100%|██████████| 938/938 [01:08<00:00, 13.66it/s]\n",
            "100%|██████████| 157/157 [00:03<00:00, 44.70it/s]\n"
          ]
        },
        {
          "name": "stdout",
          "output_type": "stream",
          "text": [
            "Accuracy at epoch 3: 94.540\n"
          ]
        },
        {
          "name": "stderr",
          "output_type": "stream",
          "text": [
            "100%|██████████| 938/938 [01:09<00:00, 13.55it/s]\n",
            "100%|██████████| 157/157 [00:03<00:00, 45.95it/s]\n"
          ]
        },
        {
          "name": "stdout",
          "output_type": "stream",
          "text": [
            "Accuracy at epoch 4: 96.310\n"
          ]
        },
        {
          "name": "stderr",
          "output_type": "stream",
          "text": [
            "100%|██████████| 938/938 [01:08<00:00, 13.70it/s]\n",
            "100%|██████████| 157/157 [00:03<00:00, 44.44it/s]\n"
          ]
        },
        {
          "name": "stdout",
          "output_type": "stream",
          "text": [
            "Accuracy at epoch 5: 96.860\n"
          ]
        },
        {
          "name": "stderr",
          "output_type": "stream",
          "text": [
            "100%|██████████| 938/938 [01:07<00:00, 13.84it/s]\n",
            "100%|██████████| 157/157 [00:03<00:00, 49.65it/s]\n"
          ]
        },
        {
          "name": "stdout",
          "output_type": "stream",
          "text": [
            "Accuracy at epoch 6: 96.610\n"
          ]
        },
        {
          "name": "stderr",
          "output_type": "stream",
          "text": [
            "100%|██████████| 938/938 [01:08<00:00, 13.71it/s]\n",
            "100%|██████████| 157/157 [00:03<00:00, 45.89it/s]\n"
          ]
        },
        {
          "name": "stdout",
          "output_type": "stream",
          "text": [
            "Accuracy at epoch 7: 96.090\n"
          ]
        },
        {
          "name": "stderr",
          "output_type": "stream",
          "text": [
            "100%|██████████| 938/938 [01:08<00:00, 13.66it/s]\n",
            "100%|██████████| 157/157 [00:03<00:00, 45.49it/s]\n"
          ]
        },
        {
          "name": "stdout",
          "output_type": "stream",
          "text": [
            "Accuracy at epoch 8: 96.890\n"
          ]
        },
        {
          "name": "stderr",
          "output_type": "stream",
          "text": [
            "100%|██████████| 938/938 [01:09<00:00, 13.59it/s]\n",
            "100%|██████████| 157/157 [00:03<00:00, 46.91it/s]\n"
          ]
        },
        {
          "name": "stdout",
          "output_type": "stream",
          "text": [
            "Accuracy at epoch 9: 97.280\n"
          ]
        },
        {
          "name": "stderr",
          "output_type": "stream",
          "text": [
            "100%|██████████| 938/938 [01:16<00:00, 12.34it/s]\n",
            "100%|██████████| 157/157 [00:04<00:00, 36.74it/s]\n"
          ]
        },
        {
          "name": "stdout",
          "output_type": "stream",
          "text": [
            "Accuracy at epoch 10: 97.290\n"
          ]
        },
        {
          "name": "stderr",
          "output_type": "stream",
          "text": [
            "100%|██████████| 938/938 [01:16<00:00, 12.26it/s]\n",
            "100%|██████████| 157/157 [00:03<00:00, 45.32it/s]\n"
          ]
        },
        {
          "name": "stdout",
          "output_type": "stream",
          "text": [
            "Accuracy at epoch 11: 96.950\n"
          ]
        },
        {
          "name": "stderr",
          "output_type": "stream",
          "text": [
            "100%|██████████| 938/938 [01:08<00:00, 13.71it/s]\n",
            "100%|██████████| 157/157 [00:03<00:00, 45.87it/s]\n"
          ]
        },
        {
          "name": "stdout",
          "output_type": "stream",
          "text": [
            "Accuracy at epoch 12: 97.030\n"
          ]
        },
        {
          "name": "stderr",
          "output_type": "stream",
          "text": [
            "100%|██████████| 938/938 [01:08<00:00, 13.65it/s]\n",
            "100%|██████████| 157/157 [00:03<00:00, 47.83it/s]\n"
          ]
        },
        {
          "name": "stdout",
          "output_type": "stream",
          "text": [
            "Accuracy at epoch 13: 97.410\n"
          ]
        },
        {
          "name": "stderr",
          "output_type": "stream",
          "text": [
            "100%|██████████| 938/938 [01:08<00:00, 13.77it/s]\n",
            "100%|██████████| 157/157 [00:03<00:00, 45.47it/s]\n"
          ]
        },
        {
          "name": "stdout",
          "output_type": "stream",
          "text": [
            "Accuracy at epoch 14: 97.630\n"
          ]
        },
        {
          "name": "stderr",
          "output_type": "stream",
          "text": [
            "100%|██████████| 938/938 [01:08<00:00, 13.79it/s]\n",
            "100%|██████████| 157/157 [00:03<00:00, 46.88it/s]\n"
          ]
        },
        {
          "name": "stdout",
          "output_type": "stream",
          "text": [
            "Accuracy at epoch 15: 97.520\n"
          ]
        },
        {
          "name": "stderr",
          "output_type": "stream",
          "text": [
            "100%|██████████| 938/938 [01:09<00:00, 13.58it/s]\n",
            "100%|██████████| 157/157 [00:03<00:00, 45.54it/s]\n"
          ]
        },
        {
          "name": "stdout",
          "output_type": "stream",
          "text": [
            "Accuracy at epoch 16: 97.070\n"
          ]
        },
        {
          "name": "stderr",
          "output_type": "stream",
          "text": [
            "100%|██████████| 938/938 [01:09<00:00, 13.47it/s]\n",
            "100%|██████████| 157/157 [00:03<00:00, 46.91it/s]"
          ]
        },
        {
          "name": "stdout",
          "output_type": "stream",
          "text": [
            "Accuracy at epoch 17: 97.360\n",
            "Early stopping ...\n",
            "Best accuracy was: 97.630\n"
          ]
        },
        {
          "name": "stderr",
          "output_type": "stream",
          "text": [
            "\n"
          ]
        }
      ],
      "source": [
        "num_classes = 10\n",
        "device = torch.device(\"cuda:0\" if torch.cuda.is_available() else \"cpu\")\n",
        "\n",
        "cnn = resnet34(weights=ResNet34_Weights.DEFAULT)\n",
        "cnn.fc = nn.Linear(512, num_classes, bias=True)\n",
        "cnn = cnn.to(device)\n",
        "#print(cnn)\n",
        "\n",
        "loss = nn.CrossEntropyLoss()\n",
        "opt = torch.optim.Adam(cnn.parameters())\n",
        "epochs = 50\n",
        "\n",
        "early_stopping = True\n",
        "nepochs = 0\n",
        "\n",
        "if(early_stopping):\n",
        "  accuracies = []\n",
        "  patience = 3\n",
        "  i = 0\n",
        "  best_acc = 0.0\n",
        "\n",
        "# Example\n",
        "#for xb, yb in train_data:\n",
        "    #xb = xb.repeat(1, 3, 1, 1)\n",
        "    #xb = xb.squeeze()\n",
        "    #pilimg = TF.to_pil_image(xb)\n",
        "    #plt.imshow(pilimg)\n",
        "    #break\n",
        "\n",
        "# --------- TRAINING ---------- #\n",
        "for epoch in range(epochs):\n",
        "    # We put the CNN in training mode\n",
        "    cnn.train()\n",
        "\n",
        "    # We iterate over the train loader, taking batches of xb, yb.\n",
        "    for xb, yb in tqdm.tqdm(train_loader):\n",
        "        xb = xb.repeat(1, 3, 1, 1) # RGB ;)\n",
        "        xb, yb = xb.to(device), yb.to(device) # Move them to the GPU\n",
        "\n",
        "        #optim.zero_grad() # We empty the gradients\n",
        "        for param in cnn.parameters():\n",
        "            param.grad = None\n",
        "        \n",
        "        ypred = cnn(xb) # Actual prediction of our model\n",
        "        l = loss(ypred, yb) # We perform a Cross Entropy Loss between the real value and our prediction\n",
        "\n",
        "        l.backward() # We compute the gradients\n",
        "        opt.step() # Parameters updated -> Single step optimization\n",
        "\n",
        "    with torch.no_grad():\n",
        "        cnn.eval() # We put the CNN in evaluation mode for testing the accuracy over the test set\n",
        "        acc = accuracy(cnn, test_loader, device)\n",
        "        accuracies.append(acc.detach().cpu().numpy())\n",
        "        print(f'Accuracy at epoch {epoch}: {acc*100:.3f}')\n",
        "\n",
        "    if acc > best_acc:\n",
        "        best_acc = acc\n",
        "        i = 0\n",
        "    else:\n",
        "        i += 1\n",
        "\n",
        "    nepochs += 1\n",
        "    \n",
        "    if (i >= patience):\n",
        "        print(\"Early stopping ...\")\n",
        "        print(F\"Best accuracy was: {best_acc*100:.3f}\")\n",
        "        break\n",
        "    else:  # At this point also save a snapshot of the current model\n",
        "        continue"
      ]
    },
    {
      "cell_type": "code",
      "execution_count": 30,
      "metadata": {},
      "outputs": [
        {
          "data": {
            "image/png": "[encoded data removed]",
            "text/plain": [
              "<Figure size 704x528 with 1 Axes>"
            ]
          },
          "metadata": {},
          "output_type": "display_data"
        }
      ],
      "source": [
        "epochs = np.arange(0,nepochs,1)\n",
        "\n",
        "# for idx in range(len(accuracies)):\n",
        "#    var = accuracies[idx]\n",
        "#    var = var.detach().cpu().numpy()\n",
        "#    accuracies[idx] = var\n",
        "\n",
        "plt.figure(dpi=110)\n",
        "plt.title(\"Accuracy\")\n",
        "plt.xlabel('Epochs')\n",
        "plt.ylabel('Accuracy')\n",
        "plt.plot(epochs, accuracies, label=\"Validation accuracy\", c=\"blue\")\n",
        "plt.xticks(epochs)\n",
        "plt.legend()\n",
        "plt.show()"
      ]
    },
    {
      "cell_type": "markdown",
      "metadata": {},
      "source": []
    }
  ],
  "metadata": {
    "accelerator": "GPU",
    "colab": {
      "collapsed_sections": [],
      "provenance": []
    },
    "gpuClass": "standard",
    "kernelspec": {
      "display_name": "Python 3.9.13 ('base')",
      "language": "python",
      "name": "python3"
    },
    "language_info": {
      "codemirror_mode": {
        "name": "ipython",
        "version": 3
      },
      "file_extension": ".py",
      "mimetype": "text/x-python",
      "name": "python",
      "nbconvert_exporter": "python",
      "pygments_lexer": "ipython3",
      "version": "3.9.13"
    },
    "vscode": {
      "interpreter": {
        "hash": "0245dcb33ee754f1ac52eeb37726094d614f792ee661c1411187169ef218bd3b"
      }
    },
    "widgets": {
      "application/vnd.jupyter.widget-state+json": {
        "02aa777aabdf4c50b5bf80f093887f16": {
          "model_module": "@jupyter-widgets/controls",
          "model_module_version": "1.5.0",
          "model_name": "HTMLModel",
          "state": {
            "_dom_classes": [],
            "_model_module": "@jupyter-widgets/controls",
            "_model_module_version": "1.5.0",
            "_model_name": "HTMLModel",
            "_view_count": null,
            "_view_module": "@jupyter-widgets/controls",
            "_view_module_version": "1.5.0",
            "_view_name": "HTMLView",
            "description": "",
            "description_tooltip": null,
            "layout": "IPY_MODEL_8a1df1b10f0247448047a06f163b8155",
            "placeholder": "​",
            "style": "IPY_MODEL_803e7fd988a0456ea0083d7280a1efd5",
            "value": " 29497/29497 [00:00&lt;00:00, 273814.20it/s]"
          }
        },
        "02dfee337dc04228b70840a329f6b706": {
          "model_module": "@jupyter-widgets/base",
          "model_module_version": "1.2.0",
          "model_name": "LayoutModel",
          "state": {
            "_model_module": "@jupyter-widgets/base",
            "_model_module_version": "1.2.0",
            "_model_name": "LayoutModel",
            "_view_count": null,
            "_view_module": "@jupyter-widgets/base",
            "_view_module_version": "1.2.0",
            "_view_name": "LayoutView",
            "align_content": null,
            "align_items": null,
            "align_self": null,
            "border": null,
            "bottom": null,
            "display": null,
            "flex": null,
            "flex_flow": null,
            "grid_area": null,
            "grid_auto_columns": null,
            "grid_auto_flow": null,
            "grid_auto_rows": null,
            "grid_column": null,
            "grid_gap": null,
            "grid_row": null,
            "grid_template_areas": null,
            "grid_template_columns": null,
            "grid_template_rows": null,
            "height": null,
            "justify_content": null,
            "justify_items": null,
            "left": null,
            "margin": null,
            "max_height": null,
            "max_width": null,
            "min_height": null,
            "min_width": null,
            "object_fit": null,
            "object_position": null,
            "order": null,
            "overflow": null,
            "overflow_x": null,
            "overflow_y": null,
            "padding": null,
            "right": null,
            "top": null,
            "visibility": null,
            "width": null
          }
        },
        "037707e3518c4e54b0c1e96301685080": {
          "model_module": "@jupyter-widgets/controls",
          "model_module_version": "1.5.0",
          "model_name": "HTMLModel",
          "state": {
            "_dom_classes": [],
            "_model_module": "@jupyter-widgets/controls",
            "_model_module_version": "1.5.0",
            "_model_name": "HTMLModel",
            "_view_count": null,
            "_view_module": "@jupyter-widgets/controls",
            "_view_module_version": "1.5.0",
            "_view_name": "HTMLView",
            "description": "",
            "description_tooltip": null,
            "layout": "IPY_MODEL_be551c46af5b49d499fe6d20ab590883",
            "placeholder": "​",
            "style": "IPY_MODEL_e7f3b20186e640c093eb6834ed8a6419",
            "value": " 5120/5120 [00:00&lt;00:00, 55619.02it/s]"
          }
        },
        "07271339e4a54fbca5716ee25ece3fc8": {
          "model_module": "@jupyter-widgets/controls",
          "model_module_version": "1.5.0",
          "model_name": "ProgressStyleModel",
          "state": {
            "_model_module": "@jupyter-widgets/controls",
            "_model_module_version": "1.5.0",
            "_model_name": "ProgressStyleModel",
            "_view_count": null,
            "_view_module": "@jupyter-widgets/base",
            "_view_module_version": "1.2.0",
            "_view_name": "StyleView",
            "bar_color": null,
            "description_width": ""
          }
        },
        "09e981249fbe4afdb8ffff9fd9770b5f": {
          "model_module": "@jupyter-widgets/base",
          "model_module_version": "1.2.0",
          "model_name": "LayoutModel",
          "state": {
            "_model_module": "@jupyter-widgets/base",
            "_model_module_version": "1.2.0",
            "_model_name": "LayoutModel",
            "_view_count": null,
            "_view_module": "@jupyter-widgets/base",
            "_view_module_version": "1.2.0",
            "_view_name": "LayoutView",
            "align_content": null,
            "align_items": null,
            "align_self": null,
            "border": null,
            "bottom": null,
            "display": null,
            "flex": null,
            "flex_flow": null,
            "grid_area": null,
            "grid_auto_columns": null,
            "grid_auto_flow": null,
            "grid_auto_rows": null,
            "grid_column": null,
            "grid_gap": null,
            "grid_row": null,
            "grid_template_areas": null,
            "grid_template_columns": null,
            "grid_template_rows": null,
            "height": null,
            "justify_content": null,
            "justify_items": null,
            "left": null,
            "margin": null,
            "max_height": null,
            "max_width": null,
            "min_height": null,
            "min_width": null,
            "object_fit": null,
            "object_position": null,
            "order": null,
            "overflow": null,
            "overflow_x": null,
            "overflow_y": null,
            "padding": null,
            "right": null,
            "top": null,
            "visibility": null,
            "width": null
          }
        },
        "0b96b45ea77849b49ab21c8b76416990": {
          "model_module": "@jupyter-widgets/base",
          "model_module_version": "1.2.0",
          "model_name": "LayoutModel",
          "state": {
            "_model_module": "@jupyter-widgets/base",
            "_model_module_version": "1.2.0",
            "_model_name": "LayoutModel",
            "_view_count": null,
            "_view_module": "@jupyter-widgets/base",
            "_view_module_version": "1.2.0",
            "_view_name": "LayoutView",
            "align_content": null,
            "align_items": null,
            "align_self": null,
            "border": null,
            "bottom": null,
            "display": null,
            "flex": null,
            "flex_flow": null,
            "grid_area": null,
            "grid_auto_columns": null,
            "grid_auto_flow": null,
            "grid_auto_rows": null,
            "grid_column": null,
            "grid_gap": null,
            "grid_row": null,
            "grid_template_areas": null,
            "grid_template_columns": null,
            "grid_template_rows": null,
            "height": null,
            "justify_content": null,
            "justify_items": null,
            "left": null,
            "margin": null,
            "max_height": null,
            "max_width": null,
            "min_height": null,
            "min_width": null,
            "object_fit": null,
            "object_position": null,
            "order": null,
            "overflow": null,
            "overflow_x": null,
            "overflow_y": null,
            "padding": null,
            "right": null,
            "top": null,
            "visibility": null,
            "width": null
          }
        },
        "0e905a1c69284000902806a945895629": {
          "model_module": "@jupyter-widgets/controls",
          "model_module_version": "1.5.0",
          "model_name": "DescriptionStyleModel",
          "state": {
            "_model_module": "@jupyter-widgets/controls",
            "_model_module_version": "1.5.0",
            "_model_name": "DescriptionStyleModel",
            "_view_count": null,
            "_view_module": "@jupyter-widgets/base",
            "_view_module_version": "1.2.0",
            "_view_name": "StyleView",
            "description_width": ""
          }
        },
        "0ea8476e50a84f6bbf70f6c36f47206a": {
          "model_module": "@jupyter-widgets/controls",
          "model_module_version": "1.5.0",
          "model_name": "DescriptionStyleModel",
          "state": {
            "_model_module": "@jupyter-widgets/controls",
            "_model_module_version": "1.5.0",
            "_model_name": "DescriptionStyleModel",
            "_view_count": null,
            "_view_module": "@jupyter-widgets/base",
            "_view_module_version": "1.2.0",
            "_view_name": "StyleView",
            "description_width": ""
          }
        },
        "126ac119606d49ada0173e20112b1e2c": {
          "model_module": "@jupyter-widgets/controls",
          "model_module_version": "1.5.0",
          "model_name": "HTMLModel",
          "state": {
            "_dom_classes": [],
            "_model_module": "@jupyter-widgets/controls",
            "_model_module_version": "1.5.0",
            "_model_name": "HTMLModel",
            "_view_count": null,
            "_view_module": "@jupyter-widgets/controls",
            "_view_module_version": "1.5.0",
            "_view_name": "HTMLView",
            "description": "",
            "description_tooltip": null,
            "layout": "IPY_MODEL_edea5dd95c674a2fa3fc6664ead5d50b",
            "placeholder": "​",
            "style": "IPY_MODEL_4a315acb38dc4e14a125fb11fda91a59",
            "value": "100%"
          }
        },
        "19a6f94d527d4e13923e22bc68b797d7": {
          "model_module": "@jupyter-widgets/controls",
          "model_module_version": "1.5.0",
          "model_name": "ProgressStyleModel",
          "state": {
            "_model_module": "@jupyter-widgets/controls",
            "_model_module_version": "1.5.0",
            "_model_name": "ProgressStyleModel",
            "_view_count": null,
            "_view_module": "@jupyter-widgets/base",
            "_view_module_version": "1.2.0",
            "_view_name": "StyleView",
            "bar_color": null,
            "description_width": ""
          }
        },
        "242b1f11ec1241fcae5df0784b5eb205": {
          "model_module": "@jupyter-widgets/base",
          "model_module_version": "1.2.0",
          "model_name": "LayoutModel",
          "state": {
            "_model_module": "@jupyter-widgets/base",
            "_model_module_version": "1.2.0",
            "_model_name": "LayoutModel",
            "_view_count": null,
            "_view_module": "@jupyter-widgets/base",
            "_view_module_version": "1.2.0",
            "_view_name": "LayoutView",
            "align_content": null,
            "align_items": null,
            "align_self": null,
            "border": null,
            "bottom": null,
            "display": null,
            "flex": null,
            "flex_flow": null,
            "grid_area": null,
            "grid_auto_columns": null,
            "grid_auto_flow": null,
            "grid_auto_rows": null,
            "grid_column": null,
            "grid_gap": null,
            "grid_row": null,
            "grid_template_areas": null,
            "grid_template_columns": null,
            "grid_template_rows": null,
            "height": null,
            "justify_content": null,
            "justify_items": null,
            "left": null,
            "margin": null,
            "max_height": null,
            "max_width": null,
            "min_height": null,
            "min_width": null,
            "object_fit": null,
            "object_position": null,
            "order": null,
            "overflow": null,
            "overflow_x": null,
            "overflow_y": null,
            "padding": null,
            "right": null,
            "top": null,
            "visibility": null,
            "width": null
          }
        },
        "30b7f36ca2e34058ab036459d4d9f1b4": {
          "model_module": "@jupyter-widgets/base",
          "model_module_version": "1.2.0",
          "model_name": "LayoutModel",
          "state": {
            "_model_module": "@jupyter-widgets/base",
            "_model_module_version": "1.2.0",
            "_model_name": "LayoutModel",
            "_view_count": null,
            "_view_module": "@jupyter-widgets/base",
            "_view_module_version": "1.2.0",
            "_view_name": "LayoutView",
            "align_content": null,
            "align_items": null,
            "align_self": null,
            "border": null,
            "bottom": null,
            "display": null,
            "flex": null,
            "flex_flow": null,
            "grid_area": null,
            "grid_auto_columns": null,
            "grid_auto_flow": null,
            "grid_auto_rows": null,
            "grid_column": null,
            "grid_gap": null,
            "grid_row": null,
            "grid_template_areas": null,
            "grid_template_columns": null,
            "grid_template_rows": null,
            "height": null,
            "justify_content": null,
            "justify_items": null,
            "left": null,
            "margin": null,
            "max_height": null,
            "max_width": null,
            "min_height": null,
            "min_width": null,
            "object_fit": null,
            "object_position": null,
            "order": null,
            "overflow": null,
            "overflow_x": null,
            "overflow_y": null,
            "padding": null,
            "right": null,
            "top": null,
            "visibility": null,
            "width": null
          }
        },
        "30bd07eb1f2546d2a46a1094d3bac53e": {
          "model_module": "@jupyter-widgets/base",
          "model_module_version": "1.2.0",
          "model_name": "LayoutModel",
          "state": {
            "_model_module": "@jupyter-widgets/base",
            "_model_module_version": "1.2.0",
            "_model_name": "LayoutModel",
            "_view_count": null,
            "_view_module": "@jupyter-widgets/base",
            "_view_module_version": "1.2.0",
            "_view_name": "LayoutView",
            "align_content": null,
            "align_items": null,
            "align_self": null,
            "border": null,
            "bottom": null,
            "display": null,
            "flex": null,
            "flex_flow": null,
            "grid_area": null,
            "grid_auto_columns": null,
            "grid_auto_flow": null,
            "grid_auto_rows": null,
            "grid_column": null,
            "grid_gap": null,
            "grid_row": null,
            "grid_template_areas": null,
            "grid_template_columns": null,
            "grid_template_rows": null,
            "height": null,
            "justify_content": null,
            "justify_items": null,
            "left": null,
            "margin": null,
            "max_height": null,
            "max_width": null,
            "min_height": null,
            "min_width": null,
            "object_fit": null,
            "object_position": null,
            "order": null,
            "overflow": null,
            "overflow_x": null,
            "overflow_y": null,
            "padding": null,
            "right": null,
            "top": null,
            "visibility": null,
            "width": null
          }
        },
        "349c0d26897a44ccac1ae21c492bf150": {
          "model_module": "@jupyter-widgets/base",
          "model_module_version": "1.2.0",
          "model_name": "LayoutModel",
          "state": {
            "_model_module": "@jupyter-widgets/base",
            "_model_module_version": "1.2.0",
            "_model_name": "LayoutModel",
            "_view_count": null,
            "_view_module": "@jupyter-widgets/base",
            "_view_module_version": "1.2.0",
            "_view_name": "LayoutView",
            "align_content": null,
            "align_items": null,
            "align_self": null,
            "border": null,
            "bottom": null,
            "display": null,
            "flex": null,
            "flex_flow": null,
            "grid_area": null,
            "grid_auto_columns": null,
            "grid_auto_flow": null,
            "grid_auto_rows": null,
            "grid_column": null,
            "grid_gap": null,
            "grid_row": null,
            "grid_template_areas": null,
            "grid_template_columns": null,
            "grid_template_rows": null,
            "height": null,
            "justify_content": null,
            "justify_items": null,
            "left": null,
            "margin": null,
            "max_height": null,
            "max_width": null,
            "min_height": null,
            "min_width": null,
            "object_fit": null,
            "object_position": null,
            "order": null,
            "overflow": null,
            "overflow_x": null,
            "overflow_y": null,
            "padding": null,
            "right": null,
            "top": null,
            "visibility": null,
            "width": null
          }
        },
        "461218b5ff92436b84ab7d0e79bfc7fd": {
          "model_module": "@jupyter-widgets/controls",
          "model_module_version": "1.5.0",
          "model_name": "DescriptionStyleModel",
          "state": {
            "_model_module": "@jupyter-widgets/controls",
            "_model_module_version": "1.5.0",
            "_model_name": "DescriptionStyleModel",
            "_view_count": null,
            "_view_module": "@jupyter-widgets/base",
            "_view_module_version": "1.2.0",
            "_view_name": "StyleView",
            "description_width": ""
          }
        },
        "47fa1be31c404837b7f27a77707c30cb": {
          "model_module": "@jupyter-widgets/controls",
          "model_module_version": "1.5.0",
          "model_name": "ProgressStyleModel",
          "state": {
            "_model_module": "@jupyter-widgets/controls",
            "_model_module_version": "1.5.0",
            "_model_name": "ProgressStyleModel",
            "_view_count": null,
            "_view_module": "@jupyter-widgets/base",
            "_view_module_version": "1.2.0",
            "_view_name": "StyleView",
            "bar_color": null,
            "description_width": ""
          }
        },
        "4a315acb38dc4e14a125fb11fda91a59": {
          "model_module": "@jupyter-widgets/controls",
          "model_module_version": "1.5.0",
          "model_name": "DescriptionStyleModel",
          "state": {
            "_model_module": "@jupyter-widgets/controls",
            "_model_module_version": "1.5.0",
            "_model_name": "DescriptionStyleModel",
            "_view_count": null,
            "_view_module": "@jupyter-widgets/base",
            "_view_module_version": "1.2.0",
            "_view_name": "StyleView",
            "description_width": ""
          }
        },
        "533fb4e63a024ef7ad2b24204309c8fe": {
          "model_module": "@jupyter-widgets/controls",
          "model_module_version": "1.5.0",
          "model_name": "HBoxModel",
          "state": {
            "_dom_classes": [],
            "_model_module": "@jupyter-widgets/controls",
            "_model_module_version": "1.5.0",
            "_model_name": "HBoxModel",
            "_view_count": null,
            "_view_module": "@jupyter-widgets/controls",
            "_view_module_version": "1.5.0",
            "_view_name": "HBoxView",
            "box_style": "",
            "children": [
              "IPY_MODEL_de6d2e84d74b40bca68a100c4a90abe9",
              "IPY_MODEL_a21ced98b1cd467696fb73fc6a2bd429",
              "IPY_MODEL_a09473c27ce446b2a8cd0f5ec50d2427"
            ],
            "layout": "IPY_MODEL_349c0d26897a44ccac1ae21c492bf150"
          }
        },
        "59fb52e50e1e4eb9886072edce1b179b": {
          "model_module": "@jupyter-widgets/base",
          "model_module_version": "1.2.0",
          "model_name": "LayoutModel",
          "state": {
            "_model_module": "@jupyter-widgets/base",
            "_model_module_version": "1.2.0",
            "_model_name": "LayoutModel",
            "_view_count": null,
            "_view_module": "@jupyter-widgets/base",
            "_view_module_version": "1.2.0",
            "_view_name": "LayoutView",
            "align_content": null,
            "align_items": null,
            "align_self": null,
            "border": null,
            "bottom": null,
            "display": null,
            "flex": null,
            "flex_flow": null,
            "grid_area": null,
            "grid_auto_columns": null,
            "grid_auto_flow": null,
            "grid_auto_rows": null,
            "grid_column": null,
            "grid_gap": null,
            "grid_row": null,
            "grid_template_areas": null,
            "grid_template_columns": null,
            "grid_template_rows": null,
            "height": null,
            "justify_content": null,
            "justify_items": null,
            "left": null,
            "margin": null,
            "max_height": null,
            "max_width": null,
            "min_height": null,
            "min_width": null,
            "object_fit": null,
            "object_position": null,
            "order": null,
            "overflow": null,
            "overflow_x": null,
            "overflow_y": null,
            "padding": null,
            "right": null,
            "top": null,
            "visibility": null,
            "width": null
          }
        },
        "6cbcd99f8ab341419fbed58922cd7543": {
          "model_module": "@jupyter-widgets/controls",
          "model_module_version": "1.5.0",
          "model_name": "HTMLModel",
          "state": {
            "_dom_classes": [],
            "_model_module": "@jupyter-widgets/controls",
            "_model_module_version": "1.5.0",
            "_model_name": "HTMLModel",
            "_view_count": null,
            "_view_module": "@jupyter-widgets/controls",
            "_view_module_version": "1.5.0",
            "_view_name": "HTMLView",
            "description": "",
            "description_tooltip": null,
            "layout": "IPY_MODEL_59fb52e50e1e4eb9886072edce1b179b",
            "placeholder": "​",
            "style": "IPY_MODEL_461218b5ff92436b84ab7d0e79bfc7fd",
            "value": "100%"
          }
        },
        "7d87a04fbb8a46478f157cac60c83ba1": {
          "model_module": "@jupyter-widgets/base",
          "model_module_version": "1.2.0",
          "model_name": "LayoutModel",
          "state": {
            "_model_module": "@jupyter-widgets/base",
            "_model_module_version": "1.2.0",
            "_model_name": "LayoutModel",
            "_view_count": null,
            "_view_module": "@jupyter-widgets/base",
            "_view_module_version": "1.2.0",
            "_view_name": "LayoutView",
            "align_content": null,
            "align_items": null,
            "align_self": null,
            "border": null,
            "bottom": null,
            "display": null,
            "flex": null,
            "flex_flow": null,
            "grid_area": null,
            "grid_auto_columns": null,
            "grid_auto_flow": null,
            "grid_auto_rows": null,
            "grid_column": null,
            "grid_gap": null,
            "grid_row": null,
            "grid_template_areas": null,
            "grid_template_columns": null,
            "grid_template_rows": null,
            "height": null,
            "justify_content": null,
            "justify_items": null,
            "left": null,
            "margin": null,
            "max_height": null,
            "max_width": null,
            "min_height": null,
            "min_width": null,
            "object_fit": null,
            "object_position": null,
            "order": null,
            "overflow": null,
            "overflow_x": null,
            "overflow_y": null,
            "padding": null,
            "right": null,
            "top": null,
            "visibility": null,
            "width": null
          }
        },
        "7eefa74d35404503a74eac4db2f9c78c": {
          "model_module": "@jupyter-widgets/base",
          "model_module_version": "1.2.0",
          "model_name": "LayoutModel",
          "state": {
            "_model_module": "@jupyter-widgets/base",
            "_model_module_version": "1.2.0",
            "_model_name": "LayoutModel",
            "_view_count": null,
            "_view_module": "@jupyter-widgets/base",
            "_view_module_version": "1.2.0",
            "_view_name": "LayoutView",
            "align_content": null,
            "align_items": null,
            "align_self": null,
            "border": null,
            "bottom": null,
            "display": null,
            "flex": null,
            "flex_flow": null,
            "grid_area": null,
            "grid_auto_columns": null,
            "grid_auto_flow": null,
            "grid_auto_rows": null,
            "grid_column": null,
            "grid_gap": null,
            "grid_row": null,
            "grid_template_areas": null,
            "grid_template_columns": null,
            "grid_template_rows": null,
            "height": null,
            "justify_content": null,
            "justify_items": null,
            "left": null,
            "margin": null,
            "max_height": null,
            "max_width": null,
            "min_height": null,
            "min_width": null,
            "object_fit": null,
            "object_position": null,
            "order": null,
            "overflow": null,
            "overflow_x": null,
            "overflow_y": null,
            "padding": null,
            "right": null,
            "top": null,
            "visibility": null,
            "width": null
          }
        },
        "803e7fd988a0456ea0083d7280a1efd5": {
          "model_module": "@jupyter-widgets/controls",
          "model_module_version": "1.5.0",
          "model_name": "DescriptionStyleModel",
          "state": {
            "_model_module": "@jupyter-widgets/controls",
            "_model_module_version": "1.5.0",
            "_model_name": "DescriptionStyleModel",
            "_view_count": null,
            "_view_module": "@jupyter-widgets/base",
            "_view_module_version": "1.2.0",
            "_view_name": "StyleView",
            "description_width": ""
          }
        },
        "8a1df1b10f0247448047a06f163b8155": {
          "model_module": "@jupyter-widgets/base",
          "model_module_version": "1.2.0",
          "model_name": "LayoutModel",
          "state": {
            "_model_module": "@jupyter-widgets/base",
            "_model_module_version": "1.2.0",
            "_model_name": "LayoutModel",
            "_view_count": null,
            "_view_module": "@jupyter-widgets/base",
            "_view_module_version": "1.2.0",
            "_view_name": "LayoutView",
            "align_content": null,
            "align_items": null,
            "align_self": null,
            "border": null,
            "bottom": null,
            "display": null,
            "flex": null,
            "flex_flow": null,
            "grid_area": null,
            "grid_auto_columns": null,
            "grid_auto_flow": null,
            "grid_auto_rows": null,
            "grid_column": null,
            "grid_gap": null,
            "grid_row": null,
            "grid_template_areas": null,
            "grid_template_columns": null,
            "grid_template_rows": null,
            "height": null,
            "justify_content": null,
            "justify_items": null,
            "left": null,
            "margin": null,
            "max_height": null,
            "max_width": null,
            "min_height": null,
            "min_width": null,
            "object_fit": null,
            "object_position": null,
            "order": null,
            "overflow": null,
            "overflow_x": null,
            "overflow_y": null,
            "padding": null,
            "right": null,
            "top": null,
            "visibility": null,
            "width": null
          }
        },
        "8f2717678c524a15935e9cbcff31f453": {
          "model_module": "@jupyter-widgets/controls",
          "model_module_version": "1.5.0",
          "model_name": "HBoxModel",
          "state": {
            "_dom_classes": [],
            "_model_module": "@jupyter-widgets/controls",
            "_model_module_version": "1.5.0",
            "_model_name": "HBoxModel",
            "_view_count": null,
            "_view_module": "@jupyter-widgets/controls",
            "_view_module_version": "1.5.0",
            "_view_name": "HBoxView",
            "box_style": "",
            "children": [
              "IPY_MODEL_126ac119606d49ada0173e20112b1e2c",
              "IPY_MODEL_f613bf34233b4774bfb0feb669275aa2",
              "IPY_MODEL_037707e3518c4e54b0c1e96301685080"
            ],
            "layout": "IPY_MODEL_aab1aa14dfd94337b0bd868e4ba6c9ea"
          }
        },
        "92845d9a91e84ab79bfc81b4b6d07241": {
          "model_module": "@jupyter-widgets/controls",
          "model_module_version": "1.5.0",
          "model_name": "DescriptionStyleModel",
          "state": {
            "_model_module": "@jupyter-widgets/controls",
            "_model_module_version": "1.5.0",
            "_model_name": "DescriptionStyleModel",
            "_view_count": null,
            "_view_module": "@jupyter-widgets/base",
            "_view_module_version": "1.2.0",
            "_view_name": "StyleView",
            "description_width": ""
          }
        },
        "9400f8fec97440bdadd1ea4e7f103866": {
          "model_module": "@jupyter-widgets/controls",
          "model_module_version": "1.5.0",
          "model_name": "HTMLModel",
          "state": {
            "_dom_classes": [],
            "_model_module": "@jupyter-widgets/controls",
            "_model_module_version": "1.5.0",
            "_model_name": "HTMLModel",
            "_view_count": null,
            "_view_module": "@jupyter-widgets/controls",
            "_view_module_version": "1.5.0",
            "_view_name": "HTMLView",
            "description": "",
            "description_tooltip": null,
            "layout": "IPY_MODEL_02dfee337dc04228b70840a329f6b706",
            "placeholder": "​",
            "style": "IPY_MODEL_0ea8476e50a84f6bbf70f6c36f47206a",
            "value": " 18165135/18165135 [00:12&lt;00:00, 2132886.61it/s]"
          }
        },
        "95ea0125d2144475827c9b5ef242d520": {
          "model_module": "@jupyter-widgets/controls",
          "model_module_version": "1.5.0",
          "model_name": "FloatProgressModel",
          "state": {
            "_dom_classes": [],
            "_model_module": "@jupyter-widgets/controls",
            "_model_module_version": "1.5.0",
            "_model_name": "FloatProgressModel",
            "_view_count": null,
            "_view_module": "@jupyter-widgets/controls",
            "_view_module_version": "1.5.0",
            "_view_name": "ProgressView",
            "bar_style": "success",
            "description": "",
            "description_tooltip": null,
            "layout": "IPY_MODEL_242b1f11ec1241fcae5df0784b5eb205",
            "max": 29497,
            "min": 0,
            "orientation": "horizontal",
            "style": "IPY_MODEL_b18988896da94a87ad8a398dfd8c0e31",
            "value": 29497
          }
        },
        "a09473c27ce446b2a8cd0f5ec50d2427": {
          "model_module": "@jupyter-widgets/controls",
          "model_module_version": "1.5.0",
          "model_name": "HTMLModel",
          "state": {
            "_dom_classes": [],
            "_model_module": "@jupyter-widgets/controls",
            "_model_module_version": "1.5.0",
            "_model_name": "HTMLModel",
            "_view_count": null,
            "_view_module": "@jupyter-widgets/controls",
            "_view_module_version": "1.5.0",
            "_view_name": "HTMLView",
            "description": "",
            "description_tooltip": null,
            "layout": "IPY_MODEL_7eefa74d35404503a74eac4db2f9c78c",
            "placeholder": "​",
            "style": "IPY_MODEL_0e905a1c69284000902806a945895629",
            "value": " 3041136/3041136 [00:02&lt;00:00, 1438177.14it/s]"
          }
        },
        "a21ced98b1cd467696fb73fc6a2bd429": {
          "model_module": "@jupyter-widgets/controls",
          "model_module_version": "1.5.0",
          "model_name": "FloatProgressModel",
          "state": {
            "_dom_classes": [],
            "_model_module": "@jupyter-widgets/controls",
            "_model_module_version": "1.5.0",
            "_model_name": "FloatProgressModel",
            "_view_count": null,
            "_view_module": "@jupyter-widgets/controls",
            "_view_module_version": "1.5.0",
            "_view_name": "ProgressView",
            "bar_style": "success",
            "description": "",
            "description_tooltip": null,
            "layout": "IPY_MODEL_30b7f36ca2e34058ab036459d4d9f1b4",
            "max": 3041136,
            "min": 0,
            "orientation": "horizontal",
            "style": "IPY_MODEL_47fa1be31c404837b7f27a77707c30cb",
            "value": 3041136
          }
        },
        "aab1aa14dfd94337b0bd868e4ba6c9ea": {
          "model_module": "@jupyter-widgets/base",
          "model_module_version": "1.2.0",
          "model_name": "LayoutModel",
          "state": {
            "_model_module": "@jupyter-widgets/base",
            "_model_module_version": "1.2.0",
            "_model_name": "LayoutModel",
            "_view_count": null,
            "_view_module": "@jupyter-widgets/base",
            "_view_module_version": "1.2.0",
            "_view_name": "LayoutView",
            "align_content": null,
            "align_items": null,
            "align_self": null,
            "border": null,
            "bottom": null,
            "display": null,
            "flex": null,
            "flex_flow": null,
            "grid_area": null,
            "grid_auto_columns": null,
            "grid_auto_flow": null,
            "grid_auto_rows": null,
            "grid_column": null,
            "grid_gap": null,
            "grid_row": null,
            "grid_template_areas": null,
            "grid_template_columns": null,
            "grid_template_rows": null,
            "height": null,
            "justify_content": null,
            "justify_items": null,
            "left": null,
            "margin": null,
            "max_height": null,
            "max_width": null,
            "min_height": null,
            "min_width": null,
            "object_fit": null,
            "object_position": null,
            "order": null,
            "overflow": null,
            "overflow_x": null,
            "overflow_y": null,
            "padding": null,
            "right": null,
            "top": null,
            "visibility": null,
            "width": null
          }
        },
        "b18988896da94a87ad8a398dfd8c0e31": {
          "model_module": "@jupyter-widgets/controls",
          "model_module_version": "1.5.0",
          "model_name": "ProgressStyleModel",
          "state": {
            "_model_module": "@jupyter-widgets/controls",
            "_model_module_version": "1.5.0",
            "_model_name": "ProgressStyleModel",
            "_view_count": null,
            "_view_module": "@jupyter-widgets/base",
            "_view_module_version": "1.2.0",
            "_view_name": "StyleView",
            "bar_color": null,
            "description_width": ""
          }
        },
        "b43d95bc893944cfbf9c51dd180a011f": {
          "model_module": "@jupyter-widgets/controls",
          "model_module_version": "1.5.0",
          "model_name": "HBoxModel",
          "state": {
            "_dom_classes": [],
            "_model_module": "@jupyter-widgets/controls",
            "_model_module_version": "1.5.0",
            "_model_name": "HBoxModel",
            "_view_count": null,
            "_view_module": "@jupyter-widgets/controls",
            "_view_module_version": "1.5.0",
            "_view_name": "HBoxView",
            "box_style": "",
            "children": [
              "IPY_MODEL_b5e9f994b39343faad0451b6cd3cfc10",
              "IPY_MODEL_e5bffb3eb6bd4bd4b01f76dce4d84a30",
              "IPY_MODEL_9400f8fec97440bdadd1ea4e7f103866"
            ],
            "layout": "IPY_MODEL_0b96b45ea77849b49ab21c8b76416990"
          }
        },
        "b5e9f994b39343faad0451b6cd3cfc10": {
          "model_module": "@jupyter-widgets/controls",
          "model_module_version": "1.5.0",
          "model_name": "HTMLModel",
          "state": {
            "_dom_classes": [],
            "_model_module": "@jupyter-widgets/controls",
            "_model_module_version": "1.5.0",
            "_model_name": "HTMLModel",
            "_view_count": null,
            "_view_module": "@jupyter-widgets/controls",
            "_view_module_version": "1.5.0",
            "_view_name": "HTMLView",
            "description": "",
            "description_tooltip": null,
            "layout": "IPY_MODEL_30bd07eb1f2546d2a46a1094d3bac53e",
            "placeholder": "​",
            "style": "IPY_MODEL_92845d9a91e84ab79bfc81b4b6d07241",
            "value": "100%"
          }
        },
        "be551c46af5b49d499fe6d20ab590883": {
          "model_module": "@jupyter-widgets/base",
          "model_module_version": "1.2.0",
          "model_name": "LayoutModel",
          "state": {
            "_model_module": "@jupyter-widgets/base",
            "_model_module_version": "1.2.0",
            "_model_name": "LayoutModel",
            "_view_count": null,
            "_view_module": "@jupyter-widgets/base",
            "_view_module_version": "1.2.0",
            "_view_name": "LayoutView",
            "align_content": null,
            "align_items": null,
            "align_self": null,
            "border": null,
            "bottom": null,
            "display": null,
            "flex": null,
            "flex_flow": null,
            "grid_area": null,
            "grid_auto_columns": null,
            "grid_auto_flow": null,
            "grid_auto_rows": null,
            "grid_column": null,
            "grid_gap": null,
            "grid_row": null,
            "grid_template_areas": null,
            "grid_template_columns": null,
            "grid_template_rows": null,
            "height": null,
            "justify_content": null,
            "justify_items": null,
            "left": null,
            "margin": null,
            "max_height": null,
            "max_width": null,
            "min_height": null,
            "min_width": null,
            "object_fit": null,
            "object_position": null,
            "order": null,
            "overflow": null,
            "overflow_x": null,
            "overflow_y": null,
            "padding": null,
            "right": null,
            "top": null,
            "visibility": null,
            "width": null
          }
        },
        "c32ac16487b44920ad35c3109ae4bc18": {
          "model_module": "@jupyter-widgets/base",
          "model_module_version": "1.2.0",
          "model_name": "LayoutModel",
          "state": {
            "_model_module": "@jupyter-widgets/base",
            "_model_module_version": "1.2.0",
            "_model_name": "LayoutModel",
            "_view_count": null,
            "_view_module": "@jupyter-widgets/base",
            "_view_module_version": "1.2.0",
            "_view_name": "LayoutView",
            "align_content": null,
            "align_items": null,
            "align_self": null,
            "border": null,
            "bottom": null,
            "display": null,
            "flex": null,
            "flex_flow": null,
            "grid_area": null,
            "grid_auto_columns": null,
            "grid_auto_flow": null,
            "grid_auto_rows": null,
            "grid_column": null,
            "grid_gap": null,
            "grid_row": null,
            "grid_template_areas": null,
            "grid_template_columns": null,
            "grid_template_rows": null,
            "height": null,
            "justify_content": null,
            "justify_items": null,
            "left": null,
            "margin": null,
            "max_height": null,
            "max_width": null,
            "min_height": null,
            "min_width": null,
            "object_fit": null,
            "object_position": null,
            "order": null,
            "overflow": null,
            "overflow_x": null,
            "overflow_y": null,
            "padding": null,
            "right": null,
            "top": null,
            "visibility": null,
            "width": null
          }
        },
        "c5fa198f7c324bb68b50c8978ef27460": {
          "model_module": "@jupyter-widgets/controls",
          "model_module_version": "1.5.0",
          "model_name": "HBoxModel",
          "state": {
            "_dom_classes": [],
            "_model_module": "@jupyter-widgets/controls",
            "_model_module_version": "1.5.0",
            "_model_name": "HBoxModel",
            "_view_count": null,
            "_view_module": "@jupyter-widgets/controls",
            "_view_module_version": "1.5.0",
            "_view_name": "HBoxView",
            "box_style": "",
            "children": [
              "IPY_MODEL_6cbcd99f8ab341419fbed58922cd7543",
              "IPY_MODEL_95ea0125d2144475827c9b5ef242d520",
              "IPY_MODEL_02aa777aabdf4c50b5bf80f093887f16"
            ],
            "layout": "IPY_MODEL_c32ac16487b44920ad35c3109ae4bc18"
          }
        },
        "ca28c3a621494062ba1925a3771fb08a": {
          "model_module": "@jupyter-widgets/base",
          "model_module_version": "1.2.0",
          "model_name": "LayoutModel",
          "state": {
            "_model_module": "@jupyter-widgets/base",
            "_model_module_version": "1.2.0",
            "_model_name": "LayoutModel",
            "_view_count": null,
            "_view_module": "@jupyter-widgets/base",
            "_view_module_version": "1.2.0",
            "_view_name": "LayoutView",
            "align_content": null,
            "align_items": null,
            "align_self": null,
            "border": null,
            "bottom": null,
            "display": null,
            "flex": null,
            "flex_flow": null,
            "grid_area": null,
            "grid_auto_columns": null,
            "grid_auto_flow": null,
            "grid_auto_rows": null,
            "grid_column": null,
            "grid_gap": null,
            "grid_row": null,
            "grid_template_areas": null,
            "grid_template_columns": null,
            "grid_template_rows": null,
            "height": null,
            "justify_content": null,
            "justify_items": null,
            "left": null,
            "margin": null,
            "max_height": null,
            "max_width": null,
            "min_height": null,
            "min_width": null,
            "object_fit": null,
            "object_position": null,
            "order": null,
            "overflow": null,
            "overflow_x": null,
            "overflow_y": null,
            "padding": null,
            "right": null,
            "top": null,
            "visibility": null,
            "width": null
          }
        },
        "de6d2e84d74b40bca68a100c4a90abe9": {
          "model_module": "@jupyter-widgets/controls",
          "model_module_version": "1.5.0",
          "model_name": "HTMLModel",
          "state": {
            "_dom_classes": [],
            "_model_module": "@jupyter-widgets/controls",
            "_model_module_version": "1.5.0",
            "_model_name": "HTMLModel",
            "_view_count": null,
            "_view_module": "@jupyter-widgets/controls",
            "_view_module_version": "1.5.0",
            "_view_name": "HTMLView",
            "description": "",
            "description_tooltip": null,
            "layout": "IPY_MODEL_09e981249fbe4afdb8ffff9fd9770b5f",
            "placeholder": "​",
            "style": "IPY_MODEL_f1b246d1bf3946b3be4b657f532ac435",
            "value": "100%"
          }
        },
        "e5bffb3eb6bd4bd4b01f76dce4d84a30": {
          "model_module": "@jupyter-widgets/controls",
          "model_module_version": "1.5.0",
          "model_name": "FloatProgressModel",
          "state": {
            "_dom_classes": [],
            "_model_module": "@jupyter-widgets/controls",
            "_model_module_version": "1.5.0",
            "_model_name": "FloatProgressModel",
            "_view_count": null,
            "_view_module": "@jupyter-widgets/controls",
            "_view_module_version": "1.5.0",
            "_view_name": "ProgressView",
            "bar_style": "success",
            "description": "",
            "description_tooltip": null,
            "layout": "IPY_MODEL_7d87a04fbb8a46478f157cac60c83ba1",
            "max": 18165135,
            "min": 0,
            "orientation": "horizontal",
            "style": "IPY_MODEL_07271339e4a54fbca5716ee25ece3fc8",
            "value": 18165135
          }
        },
        "e7f3b20186e640c093eb6834ed8a6419": {
          "model_module": "@jupyter-widgets/controls",
          "model_module_version": "1.5.0",
          "model_name": "DescriptionStyleModel",
          "state": {
            "_model_module": "@jupyter-widgets/controls",
            "_model_module_version": "1.5.0",
            "_model_name": "DescriptionStyleModel",
            "_view_count": null,
            "_view_module": "@jupyter-widgets/base",
            "_view_module_version": "1.2.0",
            "_view_name": "StyleView",
            "description_width": ""
          }
        },
        "edea5dd95c674a2fa3fc6664ead5d50b": {
          "model_module": "@jupyter-widgets/base",
          "model_module_version": "1.2.0",
          "model_name": "LayoutModel",
          "state": {
            "_model_module": "@jupyter-widgets/base",
            "_model_module_version": "1.2.0",
            "_model_name": "LayoutModel",
            "_view_count": null,
            "_view_module": "@jupyter-widgets/base",
            "_view_module_version": "1.2.0",
            "_view_name": "LayoutView",
            "align_content": null,
            "align_items": null,
            "align_self": null,
            "border": null,
            "bottom": null,
            "display": null,
            "flex": null,
            "flex_flow": null,
            "grid_area": null,
            "grid_auto_columns": null,
            "grid_auto_flow": null,
            "grid_auto_rows": null,
            "grid_column": null,
            "grid_gap": null,
            "grid_row": null,
            "grid_template_areas": null,
            "grid_template_columns": null,
            "grid_template_rows": null,
            "height": null,
            "justify_content": null,
            "justify_items": null,
            "left": null,
            "margin": null,
            "max_height": null,
            "max_width": null,
            "min_height": null,
            "min_width": null,
            "object_fit": null,
            "object_position": null,
            "order": null,
            "overflow": null,
            "overflow_x": null,
            "overflow_y": null,
            "padding": null,
            "right": null,
            "top": null,
            "visibility": null,
            "width": null
          }
        },
        "f1b246d1bf3946b3be4b657f532ac435": {
          "model_module": "@jupyter-widgets/controls",
          "model_module_version": "1.5.0",
          "model_name": "DescriptionStyleModel",
          "state": {
            "_model_module": "@jupyter-widgets/controls",
            "_model_module_version": "1.5.0",
            "_model_name": "DescriptionStyleModel",
            "_view_count": null,
            "_view_module": "@jupyter-widgets/base",
            "_view_module_version": "1.2.0",
            "_view_name": "StyleView",
            "description_width": ""
          }
        },
        "f613bf34233b4774bfb0feb669275aa2": {
          "model_module": "@jupyter-widgets/controls",
          "model_module_version": "1.5.0",
          "model_name": "FloatProgressModel",
          "state": {
            "_dom_classes": [],
            "_model_module": "@jupyter-widgets/controls",
            "_model_module_version": "1.5.0",
            "_model_name": "FloatProgressModel",
            "_view_count": null,
            "_view_module": "@jupyter-widgets/controls",
            "_view_module_version": "1.5.0",
            "_view_name": "ProgressView",
            "bar_style": "success",
            "description": "",
            "description_tooltip": null,
            "layout": "IPY_MODEL_ca28c3a621494062ba1925a3771fb08a",
            "max": 5120,
            "min": 0,
            "orientation": "horizontal",
            "style": "IPY_MODEL_19a6f94d527d4e13923e22bc68b797d7",
            "value": 5120
          }
        }
      }
    }
  },
  "nbformat": 4,
  "nbformat_minor": 0
}
